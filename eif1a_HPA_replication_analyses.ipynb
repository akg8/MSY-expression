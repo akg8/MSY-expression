{
 "cells": [
  {
   "cell_type": "markdown",
   "metadata": {},
   "source": [
    "Replication of EIF1AX/EIF1AY expression patterns in Human Protein Atlas RNA-seq data"
   ]
  },
  {
   "cell_type": "code",
   "execution_count": 159,
   "metadata": {},
   "outputs": [],
   "source": [
    "import os\n",
    "\n",
    "import numpy as np\n",
    "import pandas as pd\n",
    "import matplotlib.pyplot as plt\n",
    "import seaborn as sns\n",
    "import scipy.stats as ss\n",
    "\n",
    "import msyexp.datasets as ds\n",
    "import msyexp.general as general\n",
    "import msyexp.ratios as yr\n",
    "import msyexp.plotfuncs as pf\n",
    "import msyexp.diffexp as yd\n",
    "\n",
    "%matplotlib inline"
   ]
  },
  {
   "cell_type": "code",
   "execution_count": 10,
   "metadata": {},
   "outputs": [],
   "source": [
    "outdir = '{}/eif1a_HPA_replication'.format(ds.paths.NBOUTDIR)\n",
    "if not os.path.exists(outdir):\n",
    "    os.mkdir(outdir)"
   ]
  },
  {
   "cell_type": "code",
   "execution_count": 3,
   "metadata": {},
   "outputs": [],
   "source": [
    "data = ds.get_hpa_data(males_only=False)\n",
    "meta = ds.get_metadata('hpa')\n",
    "meta_ = meta.set_index('SAMPID')"
   ]
  },
  {
   "cell_type": "code",
   "execution_count": 4,
   "metadata": {},
   "outputs": [
    {
     "data": {
      "text/html": [
       "<div>\n",
       "<style scoped>\n",
       "    .dataframe tbody tr th:only-of-type {\n",
       "        vertical-align: middle;\n",
       "    }\n",
       "\n",
       "    .dataframe tbody tr th {\n",
       "        vertical-align: top;\n",
       "    }\n",
       "\n",
       "    .dataframe thead th {\n",
       "        text-align: right;\n",
       "    }\n",
       "</style>\n",
       "<table border=\"1\" class=\"dataframe\">\n",
       "  <thead>\n",
       "    <tr style=\"text-align: right;\">\n",
       "      <th></th>\n",
       "      <th>ENA_SAMPLE</th>\n",
       "      <th>SAMPID</th>\n",
       "      <th>TISSUE_HPA</th>\n",
       "      <th>SEX</th>\n",
       "      <th>TISSUE</th>\n",
       "    </tr>\n",
       "  </thead>\n",
       "  <tbody>\n",
       "    <tr>\n",
       "      <td>0</td>\n",
       "      <td>ERS326931</td>\n",
       "      <td>colon_a</td>\n",
       "      <td>Colon</td>\n",
       "      <td>male</td>\n",
       "      <td>Colon - Transverse</td>\n",
       "    </tr>\n",
       "    <tr>\n",
       "      <td>1</td>\n",
       "      <td>ERS326978</td>\n",
       "      <td>colon_f</td>\n",
       "      <td>Colon</td>\n",
       "      <td>male</td>\n",
       "      <td>Colon - Transverse</td>\n",
       "    </tr>\n",
       "    <tr>\n",
       "      <td>2</td>\n",
       "      <td>ERS326990</td>\n",
       "      <td>colon_b</td>\n",
       "      <td>Colon</td>\n",
       "      <td>female</td>\n",
       "      <td>Colon - Transverse</td>\n",
       "    </tr>\n",
       "    <tr>\n",
       "      <td>3</td>\n",
       "      <td>ERS326994</td>\n",
       "      <td>colon_d</td>\n",
       "      <td>Colon</td>\n",
       "      <td>male</td>\n",
       "      <td>Colon - Transverse</td>\n",
       "    </tr>\n",
       "    <tr>\n",
       "      <td>4</td>\n",
       "      <td>ERS327001</td>\n",
       "      <td>colon_c</td>\n",
       "      <td>Colon</td>\n",
       "      <td>female</td>\n",
       "      <td>Colon - Transverse</td>\n",
       "    </tr>\n",
       "    <tr>\n",
       "      <td>...</td>\n",
       "      <td>...</td>\n",
       "      <td>...</td>\n",
       "      <td>...</td>\n",
       "      <td>...</td>\n",
       "      <td>...</td>\n",
       "    </tr>\n",
       "    <tr>\n",
       "      <td>117</td>\n",
       "      <td>ERS526277</td>\n",
       "      <td>smoothmuscle_8c</td>\n",
       "      <td>Smooth Muscle</td>\n",
       "      <td>female</td>\n",
       "      <td>NaN</td>\n",
       "    </tr>\n",
       "    <tr>\n",
       "      <td>118</td>\n",
       "      <td>ERS526281</td>\n",
       "      <td>smoothmuscle_8a</td>\n",
       "      <td>Smooth Muscle</td>\n",
       "      <td>female</td>\n",
       "      <td>NaN</td>\n",
       "    </tr>\n",
       "    <tr>\n",
       "      <td>119</td>\n",
       "      <td>ERS526278</td>\n",
       "      <td>tonsil_8e1</td>\n",
       "      <td>Tonsil</td>\n",
       "      <td>male</td>\n",
       "      <td>NaN</td>\n",
       "    </tr>\n",
       "    <tr>\n",
       "      <td>120</td>\n",
       "      <td>ERS526283</td>\n",
       "      <td>tonsil_8a1</td>\n",
       "      <td>Tonsil</td>\n",
       "      <td>female</td>\n",
       "      <td>NaN</td>\n",
       "    </tr>\n",
       "    <tr>\n",
       "      <td>121</td>\n",
       "      <td>ERS526290</td>\n",
       "      <td>tonsil_8b1</td>\n",
       "      <td>Tonsil</td>\n",
       "      <td>male</td>\n",
       "      <td>NaN</td>\n",
       "    </tr>\n",
       "  </tbody>\n",
       "</table>\n",
       "<p>122 rows × 5 columns</p>\n",
       "</div>"
      ],
      "text/plain": [
       "    ENA_SAMPLE           SAMPID     TISSUE_HPA     SEX              TISSUE\n",
       "0    ERS326931          colon_a          Colon    male  Colon - Transverse\n",
       "1    ERS326978          colon_f          Colon    male  Colon - Transverse\n",
       "2    ERS326990          colon_b          Colon  female  Colon - Transverse\n",
       "3    ERS326994          colon_d          Colon    male  Colon - Transverse\n",
       "4    ERS327001          colon_c          Colon  female  Colon - Transverse\n",
       "..         ...              ...            ...     ...                 ...\n",
       "117  ERS526277  smoothmuscle_8c  Smooth Muscle  female                 NaN\n",
       "118  ERS526281  smoothmuscle_8a  Smooth Muscle  female                 NaN\n",
       "119  ERS526278       tonsil_8e1         Tonsil    male                 NaN\n",
       "120  ERS526283       tonsil_8a1         Tonsil  female                 NaN\n",
       "121  ERS526290       tonsil_8b1         Tonsil    male                 NaN\n",
       "\n",
       "[122 rows x 5 columns]"
      ]
     },
     "execution_count": 4,
     "metadata": {},
     "output_type": "execute_result"
    }
   ],
   "source": [
    "meta"
   ]
  },
  {
   "cell_type": "code",
   "execution_count": 5,
   "metadata": {},
   "outputs": [
    {
     "data": {
      "text/html": [
       "<div>\n",
       "<style scoped>\n",
       "    .dataframe tbody tr th:only-of-type {\n",
       "        vertical-align: middle;\n",
       "    }\n",
       "\n",
       "    .dataframe tbody tr th {\n",
       "        vertical-align: top;\n",
       "    }\n",
       "\n",
       "    .dataframe thead th {\n",
       "        text-align: right;\n",
       "    }\n",
       "</style>\n",
       "<table border=\"1\" class=\"dataframe\">\n",
       "  <thead>\n",
       "    <tr style=\"text-align: right;\">\n",
       "      <th></th>\n",
       "      <th>fallopiantube_5a</th>\n",
       "      <th>heart_6a</th>\n",
       "      <th>lymphnode_5c</th>\n",
       "      <th>kidney_a</th>\n",
       "      <th>spleen_3b</th>\n",
       "      <th>testis_7e</th>\n",
       "      <th>smallintestine_4d</th>\n",
       "      <th>duodenum_4c</th>\n",
       "      <th>duodenum_4b</th>\n",
       "      <th>lymphnode_5b</th>\n",
       "      <th>...</th>\n",
       "      <th>fat_e</th>\n",
       "      <th>gallbladder_5b</th>\n",
       "      <th>colon_8a</th>\n",
       "      <th>fat_x1</th>\n",
       "      <th>ovary_8a</th>\n",
       "      <th>gallbladder_5a</th>\n",
       "      <th>lung_4a</th>\n",
       "      <th>colon_d</th>\n",
       "      <th>colon_8b</th>\n",
       "      <th>placenta_3a</th>\n",
       "    </tr>\n",
       "  </thead>\n",
       "  <tbody>\n",
       "    <tr>\n",
       "      <td>A1BG</td>\n",
       "      <td>0.704270</td>\n",
       "      <td>0.669441</td>\n",
       "      <td>0.702779</td>\n",
       "      <td>0.843635</td>\n",
       "      <td>4.236174</td>\n",
       "      <td>0.406098</td>\n",
       "      <td>0.353648</td>\n",
       "      <td>0.945126</td>\n",
       "      <td>1.456282</td>\n",
       "      <td>1.772412</td>\n",
       "      <td>...</td>\n",
       "      <td>0.674719</td>\n",
       "      <td>0.237803</td>\n",
       "      <td>0.211095</td>\n",
       "      <td>0.822709</td>\n",
       "      <td>0.291328</td>\n",
       "      <td>0.963908</td>\n",
       "      <td>3.969467</td>\n",
       "      <td>0.878944</td>\n",
       "      <td>0.231189</td>\n",
       "      <td>0.860654</td>\n",
       "    </tr>\n",
       "    <tr>\n",
       "      <td>A1CF</td>\n",
       "      <td>0.046495</td>\n",
       "      <td>0.000000</td>\n",
       "      <td>0.089216</td>\n",
       "      <td>22.719403</td>\n",
       "      <td>0.046399</td>\n",
       "      <td>0.057793</td>\n",
       "      <td>32.334047</td>\n",
       "      <td>26.598769</td>\n",
       "      <td>33.410611</td>\n",
       "      <td>0.041047</td>\n",
       "      <td>...</td>\n",
       "      <td>0.014792</td>\n",
       "      <td>12.907205</td>\n",
       "      <td>7.633758</td>\n",
       "      <td>0.112728</td>\n",
       "      <td>0.210020</td>\n",
       "      <td>8.318549</td>\n",
       "      <td>0.015959</td>\n",
       "      <td>25.414759</td>\n",
       "      <td>14.363907</td>\n",
       "      <td>0.057216</td>\n",
       "    </tr>\n",
       "    <tr>\n",
       "      <td>A2M</td>\n",
       "      <td>383.787454</td>\n",
       "      <td>196.078576</td>\n",
       "      <td>141.105080</td>\n",
       "      <td>218.769364</td>\n",
       "      <td>334.906824</td>\n",
       "      <td>65.595538</td>\n",
       "      <td>250.676401</td>\n",
       "      <td>190.620418</td>\n",
       "      <td>173.118256</td>\n",
       "      <td>278.062560</td>\n",
       "      <td>...</td>\n",
       "      <td>365.523644</td>\n",
       "      <td>662.569978</td>\n",
       "      <td>350.381925</td>\n",
       "      <td>334.620671</td>\n",
       "      <td>117.809157</td>\n",
       "      <td>829.469500</td>\n",
       "      <td>1849.794796</td>\n",
       "      <td>166.756257</td>\n",
       "      <td>321.614256</td>\n",
       "      <td>442.104735</td>\n",
       "    </tr>\n",
       "    <tr>\n",
       "      <td>A2ML1</td>\n",
       "      <td>1.175975</td>\n",
       "      <td>0.092359</td>\n",
       "      <td>0.160913</td>\n",
       "      <td>0.033381</td>\n",
       "      <td>0.089609</td>\n",
       "      <td>5.540527</td>\n",
       "      <td>0.030712</td>\n",
       "      <td>0.000000</td>\n",
       "      <td>0.000000</td>\n",
       "      <td>0.043312</td>\n",
       "      <td>...</td>\n",
       "      <td>0.409034</td>\n",
       "      <td>0.372032</td>\n",
       "      <td>0.040104</td>\n",
       "      <td>0.143082</td>\n",
       "      <td>0.344371</td>\n",
       "      <td>0.133250</td>\n",
       "      <td>0.201385</td>\n",
       "      <td>0.023383</td>\n",
       "      <td>0.024750</td>\n",
       "      <td>0.476247</td>\n",
       "    </tr>\n",
       "    <tr>\n",
       "      <td>A3GALT2</td>\n",
       "      <td>0.000000</td>\n",
       "      <td>0.000000</td>\n",
       "      <td>0.000000</td>\n",
       "      <td>0.000000</td>\n",
       "      <td>0.172178</td>\n",
       "      <td>1.206003</td>\n",
       "      <td>0.000000</td>\n",
       "      <td>0.000000</td>\n",
       "      <td>0.000000</td>\n",
       "      <td>0.000000</td>\n",
       "      <td>...</td>\n",
       "      <td>0.000000</td>\n",
       "      <td>0.176705</td>\n",
       "      <td>0.000000</td>\n",
       "      <td>0.122605</td>\n",
       "      <td>0.130630</td>\n",
       "      <td>0.088174</td>\n",
       "      <td>0.000000</td>\n",
       "      <td>0.081135</td>\n",
       "      <td>0.050524</td>\n",
       "      <td>0.000000</td>\n",
       "    </tr>\n",
       "  </tbody>\n",
       "</table>\n",
       "<p>5 rows × 122 columns</p>\n",
       "</div>"
      ],
      "text/plain": [
       "         fallopiantube_5a    heart_6a  lymphnode_5c    kidney_a   spleen_3b  \\\n",
       "A1BG             0.704270    0.669441      0.702779    0.843635    4.236174   \n",
       "A1CF             0.046495    0.000000      0.089216   22.719403    0.046399   \n",
       "A2M            383.787454  196.078576    141.105080  218.769364  334.906824   \n",
       "A2ML1            1.175975    0.092359      0.160913    0.033381    0.089609   \n",
       "A3GALT2          0.000000    0.000000      0.000000    0.000000    0.172178   \n",
       "\n",
       "         testis_7e  smallintestine_4d  duodenum_4c  duodenum_4b  lymphnode_5b  \\\n",
       "A1BG      0.406098           0.353648     0.945126     1.456282      1.772412   \n",
       "A1CF      0.057793          32.334047    26.598769    33.410611      0.041047   \n",
       "A2M      65.595538         250.676401   190.620418   173.118256    278.062560   \n",
       "A2ML1     5.540527           0.030712     0.000000     0.000000      0.043312   \n",
       "A3GALT2   1.206003           0.000000     0.000000     0.000000      0.000000   \n",
       "\n",
       "         ...       fat_e  gallbladder_5b    colon_8a      fat_x1    ovary_8a  \\\n",
       "A1BG     ...    0.674719        0.237803    0.211095    0.822709    0.291328   \n",
       "A1CF     ...    0.014792       12.907205    7.633758    0.112728    0.210020   \n",
       "A2M      ...  365.523644      662.569978  350.381925  334.620671  117.809157   \n",
       "A2ML1    ...    0.409034        0.372032    0.040104    0.143082    0.344371   \n",
       "A3GALT2  ...    0.000000        0.176705    0.000000    0.122605    0.130630   \n",
       "\n",
       "         gallbladder_5a      lung_4a     colon_d    colon_8b  placenta_3a  \n",
       "A1BG           0.963908     3.969467    0.878944    0.231189     0.860654  \n",
       "A1CF           8.318549     0.015959   25.414759   14.363907     0.057216  \n",
       "A2M          829.469500  1849.794796  166.756257  321.614256   442.104735  \n",
       "A2ML1          0.133250     0.201385    0.023383    0.024750     0.476247  \n",
       "A3GALT2        0.088174     0.000000    0.081135    0.050524     0.000000  \n",
       "\n",
       "[5 rows x 122 columns]"
      ]
     },
     "execution_count": 5,
     "metadata": {},
     "output_type": "execute_result"
    }
   ],
   "source": [
    "data.head()"
   ]
  },
  {
   "cell_type": "code",
   "execution_count": 11,
   "metadata": {},
   "outputs": [],
   "source": [
    "mdata, fdata = general.split_male_female_samples(data, meta)\n",
    "mdata0 = mdata.copy()\n",
    "fdata0 = fdata.copy()"
   ]
  },
  {
   "cell_type": "code",
   "execution_count": 7,
   "metadata": {},
   "outputs": [
    {
     "name": "stdout",
     "output_type": "stream",
     "text": [
      "(19732, 52)\n",
      "(19732, 70)\n"
     ]
    }
   ],
   "source": [
    "print(mdata.shape)\n",
    "print(fdata.shape)"
   ]
  },
  {
   "cell_type": "markdown",
   "metadata": {},
   "source": [
    "### Plot Y/X expression ratios in male samples"
   ]
  },
  {
   "cell_type": "markdown",
   "metadata": {},
   "source": [
    "Subset to just tissues found in GTEx"
   ]
  },
  {
   "cell_type": "code",
   "execution_count": 219,
   "metadata": {},
   "outputs": [
    {
     "name": "stdout",
     "output_type": "stream",
     "text": [
      "(19732, 37)\n"
     ]
    }
   ],
   "source": [
    "mdata = mdata.loc[:, meta_.loc[mdata.columns, 'TISSUE'].notnull()]\n",
    "print(mdata.shape)"
   ]
  },
  {
   "cell_type": "code",
   "execution_count": 220,
   "metadata": {},
   "outputs": [
    {
     "data": {
      "text/html": [
       "<div>\n",
       "<style scoped>\n",
       "    .dataframe tbody tr th:only-of-type {\n",
       "        vertical-align: middle;\n",
       "    }\n",
       "\n",
       "    .dataframe tbody tr th {\n",
       "        vertical-align: top;\n",
       "    }\n",
       "\n",
       "    .dataframe thead th {\n",
       "        text-align: right;\n",
       "    }\n",
       "</style>\n",
       "<table border=\"1\" class=\"dataframe\">\n",
       "  <thead>\n",
       "    <tr style=\"text-align: right;\">\n",
       "      <th></th>\n",
       "      <th>EIF1AY/EIF1AX</th>\n",
       "      <th>DDX3Y/DDX3X</th>\n",
       "      <th>ZFY/ZFX</th>\n",
       "      <th>TISSUE</th>\n",
       "    </tr>\n",
       "  </thead>\n",
       "  <tbody>\n",
       "    <tr>\n",
       "      <td>heart_6a</td>\n",
       "      <td>2.162046</td>\n",
       "      <td>-1.469869</td>\n",
       "      <td>-0.913335</td>\n",
       "      <td>Heart</td>\n",
       "    </tr>\n",
       "    <tr>\n",
       "      <td>spleen_3b</td>\n",
       "      <td>0.700950</td>\n",
       "      <td>-0.968786</td>\n",
       "      <td>-0.478260</td>\n",
       "      <td>Spleen</td>\n",
       "    </tr>\n",
       "    <tr>\n",
       "      <td>testis_7e</td>\n",
       "      <td>0.003900</td>\n",
       "      <td>-0.156400</td>\n",
       "      <td>0.472614</td>\n",
       "      <td>Testis</td>\n",
       "    </tr>\n",
       "    <tr>\n",
       "      <td>smallintestine_4d</td>\n",
       "      <td>-0.259645</td>\n",
       "      <td>-1.906831</td>\n",
       "      <td>-0.429847</td>\n",
       "      <td>Small Intestine</td>\n",
       "    </tr>\n",
       "    <tr>\n",
       "      <td>smallintestine_4b</td>\n",
       "      <td>-0.469565</td>\n",
       "      <td>-1.360333</td>\n",
       "      <td>-0.294796</td>\n",
       "      <td>Small Intestine</td>\n",
       "    </tr>\n",
       "  </tbody>\n",
       "</table>\n",
       "</div>"
      ],
      "text/plain": [
       "                   EIF1AY/EIF1AX  DDX3Y/DDX3X   ZFY/ZFX           TISSUE\n",
       "heart_6a                2.162046    -1.469869 -0.913335            Heart\n",
       "spleen_3b               0.700950    -0.968786 -0.478260           Spleen\n",
       "testis_7e               0.003900    -0.156400  0.472614           Testis\n",
       "smallintestine_4d      -0.259645    -1.906831 -0.429847  Small Intestine\n",
       "smallintestine_4b      -0.469565    -1.360333 -0.294796  Small Intestine"
      ]
     },
     "execution_count": 220,
     "metadata": {},
     "output_type": "execute_result"
    }
   ],
   "source": [
    "ratios = yr.calc_ratios(mdata)\n",
    "df = pd.DataFrame({'EIF1AY/EIF1AX':ratios.loc['EIF1AY/EIF1AX'],\n",
    "                   'DDX3Y/DDX3X':ratios.loc['DDX3Y/DDX3X'],\n",
    "                   'ZFY/ZFX':ratios.loc['ZFY/ZFX']})\n",
    "df['TISSUE'] = meta_.loc[df.index, 'TISSUE_HPA']\n",
    "df.head()"
   ]
  },
  {
   "cell_type": "code",
   "execution_count": 221,
   "metadata": {},
   "outputs": [
    {
     "data": {
      "text/plain": [
       "['Kidney',\n",
       " 'Prostate',\n",
       " 'Salivary Gland',\n",
       " 'Small Intestine',\n",
       " 'Colon',\n",
       " 'Stomach',\n",
       " 'Skin',\n",
       " 'Esophagus',\n",
       " 'Pancreas',\n",
       " 'Lung',\n",
       " 'Heart',\n",
       " 'Skeletal Muscle',\n",
       " 'Spleen',\n",
       " 'Liver',\n",
       " 'Brain',\n",
       " 'Testis']"
      ]
     },
     "execution_count": 221,
     "metadata": {},
     "output_type": "execute_result"
    }
   ],
   "source": [
    "# tissue order\n",
    "mdata0 = mdata.loc[:, meta_.loc[mdata.columns, 'TISSUE'].notnull()]\n",
    "meta_0 = meta_.loc[mdata0.columns].copy()\n",
    "meta_0['TISSUE'] = pd.Categorical(meta_0['TISSUE'], pf.TISSUE_ORDER)\n",
    "meta_0 = meta_0.sort_values('TISSUE')\n",
    "t_order = list(meta_0['TISSUE_HPA'].unique())\n",
    "t_order"
   ]
  },
  {
   "cell_type": "code",
   "execution_count": 233,
   "metadata": {},
   "outputs": [
    {
     "data": {
      "image/png": "[encoded data removed]",
      "text/plain": [
       "<Figure size 216x144 with 1 Axes>"
      ]
     },
     "metadata": {
      "needs_background": "light"
     },
     "output_type": "display_data"
    }
   ],
   "source": [
    "fig, ax = plt.subplots(figsize=(3, 2))\n",
    "fig.subplots_adjust(bottom=0.35, left=0.15, right=0.94)\n",
    "\n",
    "ax = sns.stripplot(x='TISSUE', y='EIF1AY/EIF1AX', data=df, ax=ax,\n",
    "                   alpha=0.6, s=4, color='k', order=t_order, zorder=3)\n",
    "ax.set_yticks([-1, 0, 1, 2])\n",
    "ylim = ax.get_ylim()\n",
    "xlim = ax.get_xlim()\n",
    "ax.set_ylim(ylim)\n",
    "ax.set_xlim(xlim)\n",
    "\n",
    "ax.plot(xlim, [0, 0], ls='-', color='0.7', lw=1)\n",
    "\n",
    "x0 = t_order.index('Heart')\n",
    "p = plt.Rectangle((x0-0.5, ylim[0]), 3, ylim[1]-ylim[0], \n",
    "                  edgecolor='none', facecolor='0.9', zorder=1)\n",
    "ax.add_patch(p)\n",
    "\n",
    "ax.grid(axis='y', ls=':', zorder=1)\n",
    "ax.set_xlabel('')\n",
    "ax.set_ylabel('Log2(Y/X expression ratio)')\n",
    "ax.set_title('EIF1AY/EIF1AX ratio in HPA')\n",
    "ax = pf.format_spines(ax)\n",
    "ax = pf.rotate_ticklabels(ax, 'x')\n",
    "\n",
    "ax = pf.format_axis_labels(ax, ticklabsize=7, labsize=7)\n",
    "\n",
    "fig.savefig(\"{}/EIF1AY_YXratio_in_HPA.pdf\".format(outdir))"
   ]
  },
  {
   "cell_type": "markdown",
   "metadata": {},
   "source": [
    "For comparison, ZFY/ZFX, highlighting the two tissues with divergent expression (as shown in Fig. 3)"
   ]
  },
  {
   "cell_type": "code",
   "execution_count": 232,
   "metadata": {},
   "outputs": [
    {
     "data": {
      "image/png": "[encoded data removed]",
      "text/plain": [
       "<Figure size 216x144 with 1 Axes>"
      ]
     },
     "metadata": {
      "needs_background": "light"
     },
     "output_type": "display_data"
    }
   ],
   "source": [
    "fig, ax = plt.subplots(figsize=(3, 2))\n",
    "fig.subplots_adjust(bottom=0.35, left=0.15, right=0.94)\n",
    "\n",
    "ax = sns.stripplot(x='TISSUE', y='ZFY/ZFX', data=df, ax=ax,\n",
    "                   alpha=0.6, s=4, color='k', order=t_order, zorder=3)\n",
    "ax.set_yticks([-2, -1, 0, 1])\n",
    "ylim = ax.get_ylim()\n",
    "xlim = ax.get_xlim()\n",
    "ax.set_ylim(ylim)\n",
    "ax.set_xlim(xlim)\n",
    "\n",
    "ax.plot(xlim, [0, 0], ls='-', color='0.7', lw=1)\n",
    "\n",
    "x0 = t_order.index('Prostate')\n",
    "x1 = t_order.index('Testis')\n",
    "p0 = plt.Rectangle((x0-0.5, ylim[0]), 1, ylim[1]-ylim[0], \n",
    "                   edgecolor='none', facecolor='0.9', zorder=1)\n",
    "p1 = plt.Rectangle((x1-0.5, ylim[0]), 1, ylim[1]-ylim[0], \n",
    "                   edgecolor='none', facecolor='0.9', zorder=1)\n",
    "ax.add_patch(p0)\n",
    "ax.add_patch(p1)\n",
    "\n",
    "ax.grid(axis='y', ls=':', zorder=1)\n",
    "ax.set_xlabel('')\n",
    "ax.set_ylabel('Log2(Y/X expression ratio)')\n",
    "ax.set_title('ZFY/ZFX expression ratio in XY samples from Human Protein Atlas dataset')\n",
    "ax = pf.format_spines(ax)\n",
    "ax = pf.rotate_ticklabels(ax, 'x')\n",
    "\n",
    "ax = pf.format_axis_labels(ax, ticklabsize=7, labsize=7)\n",
    "\n",
    "fig.savefig(\"{}/ZFY_YXratio_in_HPA.pdf\".format(outdir))"
   ]
  },
  {
   "cell_type": "markdown",
   "metadata": {},
   "source": [
    "For comparison, DDX3Y/DDX3X..."
   ]
  },
  {
   "cell_type": "code",
   "execution_count": 231,
   "metadata": {},
   "outputs": [
    {
     "data": {
      "image/png": "[encoded data removed]",
      "text/plain": [
       "<Figure size 216x144 with 1 Axes>"
      ]
     },
     "metadata": {
      "needs_background": "light"
     },
     "output_type": "display_data"
    }
   ],
   "source": [
    "fig, ax = plt.subplots(figsize=(3, 2))\n",
    "fig.subplots_adjust(bottom=0.35, left=0.15, right=0.94)\n",
    "\n",
    "ax = sns.stripplot(x='TISSUE', y='DDX3Y/DDX3X', data=df, ax=ax,\n",
    "                   alpha=0.6, s=4, color='k', order=t_order, zorder=3)\n",
    "ax.set_yticks([-2, -1, 0, 1])\n",
    "ylim = ax.get_ylim()\n",
    "xlim = ax.get_xlim()\n",
    "ax.set_ylim(ylim)\n",
    "ax.set_xlim(xlim)\n",
    "\n",
    "ax.plot(xlim, [0, 0], ls='-', color='0.7', lw=1)\n",
    "\n",
    "ax.grid(axis='y', ls=':', zorder=1)\n",
    "ax.set_xlabel('')\n",
    "ax.set_ylabel('Log2(Y/X expression ratio)')\n",
    "ax.set_title('DDX3Y/DDX3X expression ratio in XY samples from Human Protein Atlas dataset')\n",
    "ax = pf.format_spines(ax)\n",
    "ax = pf.rotate_ticklabels(ax, 'x')\n",
    "\n",
    "ax = pf.format_axis_labels(ax, ticklabsize=7, labsize=7)\n",
    "\n",
    "fig.savefig(\"{}/DDX3Y_YXratio_in_HPA.pdf\".format(outdir))"
   ]
  },
  {
   "cell_type": "markdown",
   "metadata": {},
   "source": [
    "### Sex bias"
   ]
  },
  {
   "cell_type": "markdown",
   "metadata": {},
   "source": [
    "Get and order tissues found in both sexes"
   ]
  },
  {
   "cell_type": "code",
   "execution_count": 234,
   "metadata": {},
   "outputs": [
    {
     "data": {
      "text/plain": [
       "['Kidney',\n",
       " 'Salivary Gland',\n",
       " 'Colon',\n",
       " 'Stomach',\n",
       " 'Skin',\n",
       " 'Esophagus',\n",
       " 'Pancreas',\n",
       " 'Lung',\n",
       " 'Heart',\n",
       " 'Skeletal Muscle',\n",
       " 'Spleen',\n",
       " 'Liver',\n",
       " 'Brain']"
      ]
     },
     "execution_count": 234,
     "metadata": {},
     "output_type": "execute_result"
    }
   ],
   "source": [
    "tissues_mf = list(set(meta_.loc[mdata.columns, 'TISSUE_HPA']) & set(meta_.loc[fdata.columns, 'TISSUE_HPA']))\n",
    "tissues_mf = list(filter(lambda t: t in tissues_mf, t_order))\n",
    "tissues_mf"
   ]
  },
  {
   "cell_type": "markdown",
   "metadata": {},
   "source": [
    "A new version of this function in `msyexp.diffexp` hard-wired for HPA data"
   ]
  },
  {
   "cell_type": "code",
   "execution_count": 237,
   "metadata": {},
   "outputs": [],
   "source": [
    "def plot_xx_vs_xy_stackedbar_hpa(data, meta, gx, gy, tissues, pad=0.1,\n",
    "                                 xcolor='#ead5b7', ycolor='#17659b', ax=None,\n",
    "                                 bar_width=0.35):\n",
    "    meta_ = meta.set_index('SAMPID')\n",
    "    data = data.loc[:, meta_.loc[data.columns, 'TISSUE_HPA'].isin(tissues)].copy()\n",
    "    \n",
    "    df_x = data.loc[gx]\n",
    "    df_xy = data.loc[gx] + data.loc[gy]\n",
    "    \n",
    "    xlab = '{}_TPM'.format(gx)\n",
    "    xylab = '{0}+{1}_TPM'.format(gx, gy)\n",
    "    \n",
    "    df = pd.DataFrame({xlab:df_x, xylab:df_xy})\n",
    "    df = pd.merge(df, meta[['SAMPID', 'TISSUE_HPA', 'SEX']], left_index=True, right_on='SAMPID')\n",
    "    df = df.rename(columns={'TISSUE_HPA':'TISSUE'})\n",
    "    \n",
    "    # calculate mean XX expression\n",
    "    xx_mean = df.loc[df.SEX.eq('female'), [xlab, 'TISSUE']].groupby('TISSUE').mean()\n",
    "    xx_mean.columns = ['XX_mean']\n",
    "    df = pd.merge(df, xx_mean, left_on='TISSUE', right_index=True)\n",
    "    df[xlab] = df[xlab] / df['XX_mean']\n",
    "    df[xylab] = df[xylab] / df['XX_mean']\n",
    "    \n",
    "    # count number of male and female samples\n",
    "    mcounts = df.loc[df['SEX']=='male', 'TISSUE'].value_counts()\n",
    "    fcounts = df.loc[df['SEX']=='female', 'TISSUE'].value_counts()\n",
    "    \n",
    "    err_quantiles = [0, 1]\n",
    "    \n",
    "    # collect bar heights and errors\n",
    "    # X in females\n",
    "    xf_group = df.loc[df.SEX.eq('female'), [xlab, 'TISSUE']].groupby('TISSUE')\n",
    "    x_f_m = xf_group.mean()[xlab].reindex(tissues)\n",
    "    x_f_err0 = -1*(xf_group.quantile(err_quantiles[0])[xlab].reindex(tissues) - x_f_m)\n",
    "    x_f_err1 = xf_group.quantile(err_quantiles[1])[xlab].reindex(tissues) - x_f_m\n",
    "\n",
    "    # X in males\n",
    "    xym_group = df.loc[df.SEX.eq('male'), [xlab, xylab, 'TISSUE']].groupby('TISSUE')\n",
    "    x_m_m = xym_group.mean()[xlab].reindex(tissues)\n",
    "    xym_q0 = xym_group.quantile(err_quantiles[0])\n",
    "    xym_q1 = xym_group.quantile(err_quantiles[1])\n",
    "    x_m_err0 = -1*(xym_q0[xlab].reindex(tissues) - x_m_m)\n",
    "    x_m_err1 = xym_q1[xlab].reindex(tissues) - x_m_m\n",
    "\n",
    "    # X+Y in males\n",
    "    xy_m_m = xym_group.mean()[xylab].reindex(tissues)\n",
    "    xy_m_err0 = -1*(xym_q0[xylab].reindex(tissues) - xy_m_m)\n",
    "    xy_m_err1 = xym_q1[xylab].reindex(tissues) - xy_m_m\n",
    "    \n",
    "    if ax is None:\n",
    "        fig, ax = plt.subplots(figsize=(3, 2))\n",
    "        fig.subplots_adjust(bottom=0.35, left=0.15, right=0.94)\n",
    "    else:\n",
    "        fig = ax.get_figure()\n",
    "        \n",
    "    xs = np.arange(len(tissues))\n",
    "    error_kws = {'lw':0.5, 'color':0.1}\n",
    "    \n",
    "    xcolor_f = xcolor_m = xcolor\n",
    "    # X in females\n",
    "    ax.bar(xs - 0.5*(pad+bar_width), x_f_m, width=bar_width, \n",
    "           yerr=[x_f_err0.values, x_f_err1.values],\n",
    "           error_kw=error_kws, edgecolor='none', facecolor=xcolor_f)\n",
    "\n",
    "    # X+Y in males\n",
    "    ax.bar(xs + 0.5*(pad+bar_width), xy_m_m, width=bar_width, \n",
    "           yerr=[xy_m_err0.values, xy_m_err1.values],\n",
    "           error_kw=error_kws, edgecolor='none', facecolor=ycolor)\n",
    "\n",
    "    # X in males\n",
    "    ax.bar(xs + 0.5*(pad+bar_width), x_m_m, width=bar_width,\n",
    "               edgecolor='none', facecolor=xcolor_m)\n",
    "    \n",
    "    ax.set_xticks(xs)\n",
    "    xlim = [-0.75, len(tissues)-0.25]\n",
    "    ax.set_xlim(xlim)\n",
    "    \n",
    "    # annotate tissues with number of female, male samples\n",
    "    tissues_ = ['{0} ({1},{2})'.format(t, fcounts[t], mcounts[t]) for t in tissues]\n",
    "    ax.set_xticklabels(tissues_, rotation='vertical')\n",
    "    \n",
    "    ax.plot(xlim, [0.5, 0.5], lw=1, ls=':', color='w')\n",
    "    ax.plot(xlim, [1, 1], lw=0.5, ls=':', color='0.7', zorder=1)\n",
    "    ax.plot(xlim, [2, 2], lw=0.5, ls=':', color='0.7', zorder=1)\n",
    "    ax.set_yticks([0, 0.5, 1, 2])\n",
    "    \n",
    "    ax.set_ylabel('Expression normalized to XX mean\\n[error bars: (min, max)]')\n",
    "    ax.set_title('{0}+{1} in XX vs. XY (HPA data)'.format(gx, gy))\n",
    "    \n",
    "    ax = pf.format_spines(ax)\n",
    "    ax = pf.format_axis_labels(ax, labsize=7, ticklabsize=7)\n",
    "    \n",
    "    return fig, ax"
   ]
  },
  {
   "cell_type": "code",
   "execution_count": 109,
   "metadata": {},
   "outputs": [],
   "source": [
    "data_h = general.housekeeping_normalize(data)"
   ]
  },
  {
   "cell_type": "code",
   "execution_count": 238,
   "metadata": {},
   "outputs": [
    {
     "data": {
      "image/png": "[encoded data removed]",
      "text/plain": [
       "<Figure size 216x144 with 1 Axes>"
      ]
     },
     "metadata": {
      "needs_background": "light"
     },
     "output_type": "display_data"
    }
   ],
   "source": [
    "fig, ax = plot_xx_vs_xy_stackedbar_hpa(data_h, meta, 'EIF1AX', 'EIF1AY', tissues_mf)\n",
    "ax.set_yticks([0, 0.5, 1, 2, 4])\n",
    "\n",
    "fig.savefig(\"{}/EIF1AX_EIF1AY_sexbias_HPA.pdf\".format(outdir))"
   ]
  },
  {
   "cell_type": "code",
   "execution_count": 239,
   "metadata": {},
   "outputs": [
    {
     "data": {
      "image/png": "[encoded data removed]",
      "text/plain": [
       "<Figure size 216x144 with 1 Axes>"
      ]
     },
     "metadata": {
      "needs_background": "light"
     },
     "output_type": "display_data"
    }
   ],
   "source": [
    "fig, ax = plot_xx_vs_xy_stackedbar_hpa(data_h, meta, 'ZFX', 'ZFY', tissues_mf)\n",
    "\n",
    "fig.savefig(\"{}/ZFX_ZFY_sexbias_HPA.pdf\".format(outdir))"
   ]
  },
  {
   "cell_type": "code",
   "execution_count": 240,
   "metadata": {},
   "outputs": [
    {
     "data": {
      "image/png": "[encoded data removed]",
      "text/plain": [
       "<Figure size 216x144 with 1 Axes>"
      ]
     },
     "metadata": {
      "needs_background": "light"
     },
     "output_type": "display_data"
    }
   ],
   "source": [
    "fig, ax = plot_xx_vs_xy_stackedbar_hpa(data_h, meta, 'DDX3X', 'DDX3Y', tissues_mf)\n",
    "\n",
    "fig.savefig(\"{}/DDX3X_DDX3Y_sexbias_HPA.pdf\".format(outdir))"
   ]
  },
  {
   "cell_type": "markdown",
   "metadata": {},
   "source": [
    "### Scatterplot GTEx vs. HPA"
   ]
  },
  {
   "cell_type": "markdown",
   "metadata": {},
   "source": [
    "For these three gene pairs, compare the tissue-level estimates of Y/X expression ratios from GTEx and HPA data"
   ]
  },
  {
   "cell_type": "code",
   "execution_count": 184,
   "metadata": {},
   "outputs": [],
   "source": [
    "# summarizing log2(Y/X ratios) by mean rather than median for HPA data\n",
    "# due to the small number of samples\n",
    "rbt_h = yr.calc_ratios_by_tissue(mdata, meta, func='mean')"
   ]
  },
  {
   "cell_type": "code",
   "execution_count": 139,
   "metadata": {},
   "outputs": [],
   "source": [
    "# load GTEx data for comparison\n",
    "gdata = ds.get_gtex_data(adjusted=True)\n",
    "gmeta = ds.get_metadata()\n",
    "rbt_g = yr.calc_ratios_by_tissue(gdata, gmeta)"
   ]
  },
  {
   "cell_type": "code",
   "execution_count": 140,
   "metadata": {},
   "outputs": [],
   "source": [
    "tissues_gh = list(set(rbt_h.columns) & set(rbt_g.columns))"
   ]
  },
  {
   "cell_type": "code",
   "execution_count": 214,
   "metadata": {},
   "outputs": [
    {
     "data": {
      "image/png": "[encoded data removed]",
      "text/plain": [
       "<Figure size 144x144 with 1 Axes>"
      ]
     },
     "metadata": {
      "needs_background": "light"
     },
     "output_type": "display_data"
    }
   ],
   "source": [
    "gx = 'EIF1AX'\n",
    "gy = 'EIF1AY'\n",
    "\n",
    "lab = '{0}/{1}'.format(gy, gx)\n",
    "\n",
    "fig, ax = plt.subplots(figsize=(2, 2))\n",
    "fig.subplots_adjust(bottom=0.35, left=0.35, top=0.88, right=0.88)\n",
    "ax.scatter(rbt_g.loc[lab, tissues_gh], rbt_h.loc[lab, tissues_gh], \n",
    "           color='k', alpha=0.7, s=10, zorder=3)\n",
    "\n",
    "xlim = pf.square_axes(ax)\n",
    "xlim = ax.get_xlim()\n",
    "ax.set_xlim(xlim)\n",
    "ax.set_ylim(xlim)\n",
    "\n",
    "ax.plot(xlim, xlim, zorder=1, ls='--', color='0.7')\n",
    "\n",
    "ax.set_xlabel(\"Log2(Y/X expression ratio)\\nin GTEx tissue\")\n",
    "ax.set_ylabel(\"Log2(Y/X expression ratio)\\nin HPA tissue\")\n",
    "\n",
    "r, p = ss.spearmanr(rbt_g.loc[lab, tissues_gh], rbt_h.loc[lab, tissues_gh])\n",
    "xt = (xlim[1]-xlim[0])*0.05 + xlim[0]\n",
    "yt = xlim[1] - (xlim[1]-xlim[0])*0.05\n",
    "ax.text(xt, yt, 'Spearman rho={0:.3f}\\np={1:.2e}'.format(r, p),\n",
    "        horizontalalignment='left', verticalalignment='top',\n",
    "        color='r', size=7)\n",
    "ax.set_title('{0}'.format(lab))\n",
    "\n",
    "ax = pf.format_axis_labels(ax, labsize=6, ticklabsize=6)\n",
    "ax = pf.format_spines(ax)\n",
    "\n",
    "fig.savefig(\"{0}/{1}_YX_ratio_GTEx_HPA_scatter.pdf\".format(outdir, gy))"
   ]
  },
  {
   "cell_type": "code",
   "execution_count": 213,
   "metadata": {},
   "outputs": [
    {
     "data": {
      "image/png": "[encoded data removed]",
      "text/plain": [
       "<Figure size 144x144 with 1 Axes>"
      ]
     },
     "metadata": {
      "needs_background": "light"
     },
     "output_type": "display_data"
    }
   ],
   "source": [
    "gx = 'ZFX'\n",
    "gy = 'ZFY'\n",
    "\n",
    "lab = '{0}/{1}'.format(gy, gx)\n",
    "\n",
    "fig, ax = plt.subplots(figsize=(2, 2))\n",
    "fig.subplots_adjust(bottom=0.35, left=0.35, top=0.88, right=0.88)\n",
    "ax.scatter(rbt_g.loc[lab, tissues_gh], rbt_h.loc[lab, tissues_gh], \n",
    "           color='k', alpha=0.7, s=10, zorder=3)\n",
    "\n",
    "xlim = pf.square_axes(ax)\n",
    "xlim = ax.get_xlim()\n",
    "ax.set_xlim(xlim)\n",
    "ax.set_ylim(xlim)\n",
    "\n",
    "ax.plot(xlim, xlim, zorder=1, ls='--', color='0.7')\n",
    "\n",
    "ax.set_xlabel(\"Log2(Y/X expression ratio)\\nin GTEx tissue\")\n",
    "ax.set_ylabel(\"Log2(Y/X expression ratio)\\nin HPA tissue\")\n",
    "\n",
    "r, p = ss.spearmanr(rbt_g.loc[lab, tissues_gh], rbt_h.loc[lab, tissues_gh])\n",
    "xt = (xlim[1]-xlim[0])*0.05 + xlim[0]\n",
    "yt = xlim[1] - (xlim[1]-xlim[0])*0.05\n",
    "ax.text(xt, yt, 'Spearman rho={0:.3f}\\np={1:.2e}'.format(r, p),\n",
    "        horizontalalignment='left', verticalalignment='top',\n",
    "        color='r', size=7)\n",
    "ax.set_title('{0}'.format(lab))\n",
    "\n",
    "ax = pf.format_axis_labels(ax, labsize=6, ticklabsize=6)\n",
    "ax = pf.format_spines(ax)\n",
    "\n",
    "fig.savefig(\"{0}/{1}_YX_ratio_GTEx_HPA_scatter.pdf\".format(outdir, gy))"
   ]
  },
  {
   "cell_type": "code",
   "execution_count": 212,
   "metadata": {},
   "outputs": [
    {
     "data": {
      "image/png": "[encoded data removed]",
      "text/plain": [
       "<Figure size 144x144 with 1 Axes>"
      ]
     },
     "metadata": {
      "needs_background": "light"
     },
     "output_type": "display_data"
    }
   ],
   "source": [
    "gx = 'DDX3X'\n",
    "gy = 'DDX3Y'\n",
    "\n",
    "lab = '{0}/{1}'.format(gy, gx)\n",
    "\n",
    "fig, ax = plt.subplots(figsize=(2, 2))\n",
    "fig.subplots_adjust(bottom=0.35, left=0.35, top=0.88, right=0.88)\n",
    "ax.scatter(rbt_g.loc[lab, tissues_gh], rbt_h.loc[lab, tissues_gh], \n",
    "           color='k', alpha=0.7, s=10, zorder=3)\n",
    "\n",
    "xlim = pf.square_axes(ax)\n",
    "xlim = ax.get_xlim()\n",
    "ax.set_xlim(xlim)\n",
    "ax.set_ylim(xlim)\n",
    "\n",
    "ax.plot(xlim, xlim, zorder=1, ls='--', color='0.7')\n",
    "\n",
    "ax.set_xlabel(\"Log2(Y/X expression ratio)\\nin GTEx tissue\")\n",
    "ax.set_ylabel(\"Log2(Y/X expression ratio)\\nin HPA tissue\")\n",
    "\n",
    "r, p = ss.spearmanr(rbt_g.loc[lab, tissues_gh], rbt_h.loc[lab, tissues_gh])\n",
    "xt = (xlim[1]-xlim[0])*0.05 + xlim[0]\n",
    "yt = xlim[1] - (xlim[1]-xlim[0])*0.05\n",
    "ax.text(xt, yt, 'Spearman rho={0:.3f}\\np={1:.2e}'.format(r, p),\n",
    "        horizontalalignment='left', verticalalignment='top',\n",
    "        color='r', size=7)\n",
    "ax.set_title('{0}'.format(lab))\n",
    "\n",
    "ax = pf.format_axis_labels(ax, labsize=6, ticklabsize=6)\n",
    "ax = pf.format_spines(ax)\n",
    "\n",
    "fig.savefig(\"{0}/{1}_YX_ratio_GTEx_HPA_scatter.pdf\".format(outdir, gy))"
   ]
  }
 ],
 "metadata": {
  "kernelspec": {
   "display_name": "Python 3",
   "language": "python",
   "name": "python3"
  },
  "language_info": {
   "codemirror_mode": {
    "name": "ipython",
    "version": 3
   },
   "file_extension": ".py",
   "mimetype": "text/x-python",
   "name": "python",
   "nbconvert_exporter": "python",
   "pygments_lexer": "ipython3",
   "version": "3.6.9"
  }
 },
 "nbformat": 4,
 "nbformat_minor": 2
}
