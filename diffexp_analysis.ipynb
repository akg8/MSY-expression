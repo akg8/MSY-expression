{
 "cells": [
  {
   "cell_type": "code",
   "execution_count": 2,
   "metadata": {},
   "outputs": [],
   "source": [
    "import os\n",
    "\n",
    "import numpy as np\n",
    "\n",
    "import msyexp.datasets as ds\n",
    "import msyexp.diffexp as yd\n",
    "import msyexp.xytools as xytools\n",
    "\n",
    "%matplotlib inline"
   ]
  },
  {
   "cell_type": "code",
   "execution_count": 3,
   "metadata": {},
   "outputs": [],
   "source": [
    "outdir = '{}/diffexp'.format(ds.paths.NBOUTDIR)\n",
    "if not os.path.exists(outdir):\n",
    "    os.mkdir(outdir)"
   ]
  },
  {
   "cell_type": "code",
   "execution_count": 4,
   "metadata": {},
   "outputs": [],
   "source": [
    "data = ds.get_gtex_data(males_only=True, adjusted=True)\n",
    "meta = ds.get_metadata()\n",
    "meta_ = meta.set_index('SAMPID')"
   ]
  },
  {
   "cell_type": "markdown",
   "metadata": {},
   "source": [
    "Perform differential expression analysis. Look for instances where a gene shows 30% higher/lower expression in one tissue compared to its expression in most (75% of) other tissues."
   ]
  },
  {
   "cell_type": "code",
   "execution_count": 5,
   "metadata": {},
   "outputs": [
    {
     "name": "stdout",
     "output_type": "stream",
     "text": [
      "DDX3X [1/18]...\n",
      "EIF1AX [2/18]...\n",
      "KDM5C [3/18]...\n",
      "NLGN4X [4/18]...\n",
      "PRKX [5/18]...\n",
      "RPS4X [6/18]...\n",
      "USP9X [7/18]...\n",
      "KDM6A [8/18]...\n",
      "ZFX [9/18]...\n",
      "DDX3Y [10/18]...\n",
      "EIF1AY [11/18]...\n",
      "KDM5D [12/18]...\n",
      "NLGN4Y [13/18]...\n",
      "PRKY [14/18]...\n",
      "RPS4Y1 [15/18]...\n",
      "USP9Y [16/18]...\n",
      "UTY [17/18]...\n",
      "ZFY [18/18]...\n"
     ]
    }
   ],
   "source": [
    "xygenes = xytools.XYPAIRS_X9 + xytools.XYPAIRS_Y9\n",
    "res = yd.find_DE_tissues_multi(data, meta, xygenes, hkeep_norm=True, min_l2fc=np.log2(1.3))"
   ]
  },
  {
   "cell_type": "code",
   "execution_count": 6,
   "metadata": {},
   "outputs": [
    {
     "data": {
      "text/html": [
       "<div>\n",
       "<style scoped>\n",
       "    .dataframe tbody tr th:only-of-type {\n",
       "        vertical-align: middle;\n",
       "    }\n",
       "\n",
       "    .dataframe tbody tr th {\n",
       "        vertical-align: top;\n",
       "    }\n",
       "\n",
       "    .dataframe thead th {\n",
       "        text-align: right;\n",
       "    }\n",
       "</style>\n",
       "<table border=\"1\" class=\"dataframe\">\n",
       "  <thead>\n",
       "    <tr style=\"text-align: right;\">\n",
       "      <th></th>\n",
       "      <th>gene</th>\n",
       "      <th>chrom</th>\n",
       "      <th>tissue</th>\n",
       "      <th>med_log2fc</th>\n",
       "      <th>direction</th>\n",
       "      <th>n_up</th>\n",
       "      <th>n_down</th>\n",
       "    </tr>\n",
       "  </thead>\n",
       "  <tbody>\n",
       "    <tr>\n",
       "      <td>115</td>\n",
       "      <td>NLGN4X</td>\n",
       "      <td>chrX</td>\n",
       "      <td>Brain - Hypothalamus</td>\n",
       "      <td>2.884569</td>\n",
       "      <td>up</td>\n",
       "      <td>31</td>\n",
       "      <td>0</td>\n",
       "    </tr>\n",
       "    <tr>\n",
       "      <td>113</td>\n",
       "      <td>NLGN4X</td>\n",
       "      <td>chrX</td>\n",
       "      <td>Brain - Cortex</td>\n",
       "      <td>2.811196</td>\n",
       "      <td>up</td>\n",
       "      <td>30</td>\n",
       "      <td>0</td>\n",
       "    </tr>\n",
       "    <tr>\n",
       "      <td>174</td>\n",
       "      <td>PRKX</td>\n",
       "      <td>chrX</td>\n",
       "      <td>Thyroid</td>\n",
       "      <td>2.652619</td>\n",
       "      <td>up</td>\n",
       "      <td>34</td>\n",
       "      <td>0</td>\n",
       "    </tr>\n",
       "    <tr>\n",
       "      <td>112</td>\n",
       "      <td>NLGN4X</td>\n",
       "      <td>chrX</td>\n",
       "      <td>Brain - Cerebellum</td>\n",
       "      <td>2.639645</td>\n",
       "      <td>up</td>\n",
       "      <td>29</td>\n",
       "      <td>0</td>\n",
       "    </tr>\n",
       "    <tr>\n",
       "      <td>114</td>\n",
       "      <td>NLGN4X</td>\n",
       "      <td>chrX</td>\n",
       "      <td>Brain - Hippocampus</td>\n",
       "      <td>2.568856</td>\n",
       "      <td>up</td>\n",
       "      <td>29</td>\n",
       "      <td>0</td>\n",
       "    </tr>\n",
       "    <tr>\n",
       "      <td>...</td>\n",
       "      <td>...</td>\n",
       "      <td>...</td>\n",
       "      <td>...</td>\n",
       "      <td>...</td>\n",
       "      <td>...</td>\n",
       "      <td>...</td>\n",
       "      <td>...</td>\n",
       "    </tr>\n",
       "    <tr>\n",
       "      <td>386</td>\n",
       "      <td>KDM5D</td>\n",
       "      <td>chrY</td>\n",
       "      <td>Adipose - Visceral</td>\n",
       "      <td>-0.002043</td>\n",
       "      <td>n.s.</td>\n",
       "      <td>2</td>\n",
       "      <td>9</td>\n",
       "    </tr>\n",
       "    <tr>\n",
       "      <td>345</td>\n",
       "      <td>DDX3Y</td>\n",
       "      <td>chrY</td>\n",
       "      <td>Spinal Cord</td>\n",
       "      <td>0.001688</td>\n",
       "      <td>n.s.</td>\n",
       "      <td>5</td>\n",
       "      <td>8</td>\n",
       "    </tr>\n",
       "    <tr>\n",
       "      <td>615</td>\n",
       "      <td>ZFY</td>\n",
       "      <td>chrY</td>\n",
       "      <td>Liver</td>\n",
       "      <td>0.000137</td>\n",
       "      <td>n.s.</td>\n",
       "      <td>8</td>\n",
       "      <td>9</td>\n",
       "    </tr>\n",
       "    <tr>\n",
       "      <td>80</td>\n",
       "      <td>KDM5C</td>\n",
       "      <td>chrX</td>\n",
       "      <td>Brain - Hypothalamus</td>\n",
       "      <td>-0.000135</td>\n",
       "      <td>n.s.</td>\n",
       "      <td>3</td>\n",
       "      <td>4</td>\n",
       "    </tr>\n",
       "    <tr>\n",
       "      <td>385</td>\n",
       "      <td>KDM5D</td>\n",
       "      <td>chrY</td>\n",
       "      <td>Adipose - Subcutaneous</td>\n",
       "      <td>-0.000024</td>\n",
       "      <td>n.s.</td>\n",
       "      <td>2</td>\n",
       "      <td>9</td>\n",
       "    </tr>\n",
       "  </tbody>\n",
       "</table>\n",
       "<p>630 rows × 7 columns</p>\n",
       "</div>"
      ],
      "text/plain": [
       "       gene chrom                  tissue  med_log2fc direction  n_up  n_down\n",
       "115  NLGN4X  chrX    Brain - Hypothalamus    2.884569        up    31       0\n",
       "113  NLGN4X  chrX          Brain - Cortex    2.811196        up    30       0\n",
       "174    PRKX  chrX                 Thyroid    2.652619        up    34       0\n",
       "112  NLGN4X  chrX      Brain - Cerebellum    2.639645        up    29       0\n",
       "114  NLGN4X  chrX     Brain - Hippocampus    2.568856        up    29       0\n",
       "..      ...   ...                     ...         ...       ...   ...     ...\n",
       "386   KDM5D  chrY      Adipose - Visceral   -0.002043      n.s.     2       9\n",
       "345   DDX3Y  chrY             Spinal Cord    0.001688      n.s.     5       8\n",
       "615     ZFY  chrY                   Liver    0.000137      n.s.     8       9\n",
       "80    KDM5C  chrX    Brain - Hypothalamus   -0.000135      n.s.     3       4\n",
       "385   KDM5D  chrY  Adipose - Subcutaneous   -0.000024      n.s.     2       9\n",
       "\n",
       "[630 rows x 7 columns]"
      ]
     },
     "execution_count": 6,
     "metadata": {},
     "output_type": "execute_result"
    }
   ],
   "source": [
    "res"
   ]
  },
  {
   "cell_type": "code",
   "execution_count": 7,
   "metadata": {},
   "outputs": [
    {
     "data": {
      "text/plain": [
       "n.s.    538\n",
       "up       50\n",
       "down     42\n",
       "Name: direction, dtype: int64"
      ]
     },
     "execution_count": 7,
     "metadata": {},
     "output_type": "execute_result"
    }
   ],
   "source": [
    "res['direction'].value_counts()"
   ]
  },
  {
   "cell_type": "code",
   "execution_count": 8,
   "metadata": {},
   "outputs": [],
   "source": [
    "res.to_csv(\"{}/xyindiv_diffexp_results.txt\".format(outdir), sep='\\t', index=False)"
   ]
  },
  {
   "cell_type": "code",
   "execution_count": 9,
   "metadata": {},
   "outputs": [
    {
     "data": {
      "image/png": "[encoded data removed]",
      "text/plain": [
       "<Figure size 540x360 with 2 Axes>"
      ]
     },
     "metadata": {
      "needs_background": "light"
     },
     "output_type": "display_data"
    }
   ],
   "source": [
    "fig, ax = yd.plot_DE_results(res)\n",
    "fig.savefig(\"{}/xyindiv_diffexp.pdf\".format(outdir))"
   ]
  }
 ],
 "metadata": {
  "kernelspec": {
   "display_name": "Python 3",
   "language": "python",
   "name": "python3"
  },
  "language_info": {
   "codemirror_mode": {
    "name": "ipython",
    "version": 3
   },
   "file_extension": ".py",
   "mimetype": "text/x-python",
   "name": "python",
   "nbconvert_exporter": "python",
   "pygments_lexer": "ipython3",
   "version": "3.6.9"
  }
 },
 "nbformat": 4,
 "nbformat_minor": 2
}
