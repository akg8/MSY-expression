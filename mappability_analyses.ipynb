{
 "cells": [
  {
   "cell_type": "markdown",
   "metadata": {},
   "source": [
    "Assessment of the mappability of MSY genes vs. genes on other chromosomes, when multi-mapping reads are included (as by kallisto) or excluded."
   ]
  },
  {
   "cell_type": "code",
   "execution_count": 1,
   "metadata": {},
   "outputs": [],
   "source": [
    "import os\n",
    "\n",
    "import pandas as pd\n",
    "import numpy as np\n",
    "import scipy.stats as ss\n",
    "import matplotlib.pyplot as plt\n",
    "import seaborn as sns\n",
    "\n",
    "import msyexp.datasets as ds\n",
    "import msyexp.general as general\n",
    "import msyexp.xytools as xytools\n",
    "import msyexp.plotfuncs as pf\n",
    "\n",
    "%matplotlib inline"
   ]
  },
  {
   "cell_type": "code",
   "execution_count": 2,
   "metadata": {},
   "outputs": [],
   "source": [
    "# directory for saving output files\n",
    "outdir = '{}/mappability'.format(ds.paths.NBOUTDIR)\n",
    "if not os.path.exists(outdir):\n",
    "    os.mkdir(outdir)"
   ]
  },
  {
   "cell_type": "code",
   "execution_count": 3,
   "metadata": {},
   "outputs": [
    {
     "name": "stdout",
     "output_type": "stream",
     "text": [
      "(20178, 8)\n"
     ]
    }
   ],
   "source": [
    "mapp19 = ds.get_mappability()\n",
    "print(mapp19.shape)"
   ]
  },
  {
   "cell_type": "code",
   "execution_count": 4,
   "metadata": {},
   "outputs": [
    {
     "data": {
      "text/html": [
       "<div>\n",
       "<style scoped>\n",
       "    .dataframe tbody tr th:only-of-type {\n",
       "        vertical-align: middle;\n",
       "    }\n",
       "\n",
       "    .dataframe tbody tr th {\n",
       "        vertical-align: top;\n",
       "    }\n",
       "\n",
       "    .dataframe thead th {\n",
       "        text-align: right;\n",
       "    }\n",
       "</style>\n",
       "<table border=\"1\" class=\"dataframe\">\n",
       "  <thead>\n",
       "    <tr style=\"text-align: right;\">\n",
       "      <th></th>\n",
       "      <th>gene_name</th>\n",
       "      <th>transcript_id</th>\n",
       "      <th>chrom</th>\n",
       "      <th>chrom_simple</th>\n",
       "      <th>mm_reads</th>\n",
       "      <th>tot_reads</th>\n",
       "      <th>frac_multimap</th>\n",
       "      <th>frac_unique</th>\n",
       "    </tr>\n",
       "  </thead>\n",
       "  <tbody>\n",
       "    <tr>\n",
       "      <td>0</td>\n",
       "      <td>A1BG</td>\n",
       "      <td>ENST00000595014</td>\n",
       "      <td>chr19</td>\n",
       "      <td>auto</td>\n",
       "      <td>1782</td>\n",
       "      <td>2225</td>\n",
       "      <td>0.801</td>\n",
       "      <td>0.199</td>\n",
       "    </tr>\n",
       "    <tr>\n",
       "      <td>1</td>\n",
       "      <td>A1CF</td>\n",
       "      <td>ENST00000374001</td>\n",
       "      <td>chr10</td>\n",
       "      <td>auto</td>\n",
       "      <td>202</td>\n",
       "      <td>9145</td>\n",
       "      <td>0.022</td>\n",
       "      <td>0.978</td>\n",
       "    </tr>\n",
       "    <tr>\n",
       "      <td>2</td>\n",
       "      <td>A2M</td>\n",
       "      <td>ENST00000318602</td>\n",
       "      <td>chr12</td>\n",
       "      <td>auto</td>\n",
       "      <td>79</td>\n",
       "      <td>4768</td>\n",
       "      <td>0.017</td>\n",
       "      <td>0.983</td>\n",
       "    </tr>\n",
       "    <tr>\n",
       "      <td>3</td>\n",
       "      <td>A2ML1</td>\n",
       "      <td>ENST00000299698</td>\n",
       "      <td>chr12</td>\n",
       "      <td>auto</td>\n",
       "      <td>0</td>\n",
       "      <td>5198</td>\n",
       "      <td>0.000</td>\n",
       "      <td>1.000</td>\n",
       "    </tr>\n",
       "    <tr>\n",
       "      <td>4</td>\n",
       "      <td>A3GALT2</td>\n",
       "      <td>ENST00000442999</td>\n",
       "      <td>chr1</td>\n",
       "      <td>auto</td>\n",
       "      <td>4</td>\n",
       "      <td>947</td>\n",
       "      <td>0.004</td>\n",
       "      <td>0.996</td>\n",
       "    </tr>\n",
       "  </tbody>\n",
       "</table>\n",
       "</div>"
      ],
      "text/plain": [
       "  gene_name    transcript_id  chrom chrom_simple  mm_reads  tot_reads  \\\n",
       "0      A1BG  ENST00000595014  chr19         auto      1782       2225   \n",
       "1      A1CF  ENST00000374001  chr10         auto       202       9145   \n",
       "2       A2M  ENST00000318602  chr12         auto        79       4768   \n",
       "3     A2ML1  ENST00000299698  chr12         auto         0       5198   \n",
       "4   A3GALT2  ENST00000442999   chr1         auto         4        947   \n",
       "\n",
       "   frac_multimap  frac_unique  \n",
       "0          0.801        0.199  \n",
       "1          0.022        0.978  \n",
       "2          0.017        0.983  \n",
       "3          0.000        1.000  \n",
       "4          0.004        0.996  "
      ]
     },
     "execution_count": 4,
     "metadata": {},
     "output_type": "execute_result"
    }
   ],
   "source": [
    "mapp19.head()"
   ]
  },
  {
   "cell_type": "markdown",
   "metadata": {},
   "source": [
    "Exclude \"AC0...\" genes, which are not reliably annotated on chrY. Thus, exclude from other chromosomes too for consistency."
   ]
  },
  {
   "cell_type": "code",
   "execution_count": 5,
   "metadata": {},
   "outputs": [
    {
     "name": "stdout",
     "output_type": "stream",
     "text": [
      "(19948, 8)\n"
     ]
    }
   ],
   "source": [
    "mapp19 = mapp19.loc[~mapp19.gene_name.str.startswith(\"AC0\")].copy()\n",
    "print(mapp19.shape)"
   ]
  },
  {
   "cell_type": "markdown",
   "metadata": {},
   "source": [
    "Subset to nuclear chromosomes"
   ]
  },
  {
   "cell_type": "code",
   "execution_count": 6,
   "metadata": {},
   "outputs": [
    {
     "name": "stdout",
     "output_type": "stream",
     "text": [
      "(19935, 8)\n"
     ]
    }
   ],
   "source": [
    "c_order = ['chr{}'.format(i) for i in range(1, 23)] + ['chrX', 'chrY']\n",
    "mapp19 = mapp19.loc[mapp19.chrom.isin(c_order)]\n",
    "print(mapp19.shape)"
   ]
  },
  {
   "cell_type": "markdown",
   "metadata": {},
   "source": [
    "Load data from RNA-SeQC (based on GENCODE v19) and kallisto (based on GENCODE v24) and subset to genes found in both references"
   ]
  },
  {
   "cell_type": "code",
   "execution_count": 7,
   "metadata": {},
   "outputs": [
    {
     "name": "stdout",
     "output_type": "stream",
     "text": [
      "(18784, 3689)\n",
      "(18784, 3689)\n",
      "(18771, 3689)\n",
      "(18771, 3689)\n"
     ]
    }
   ],
   "source": [
    "kdata = ds.get_gtex_data(adjusted=False, sum_mc_families=False)\n",
    "rdata = ds.get_gtex_data(rnaseqc=True, sum_mc_families=False)\n",
    "\n",
    "meta = ds.get_metadata()\n",
    "meta_ = meta.set_index('SAMPID')\n",
    "\n",
    "# subset to common samples\n",
    "samps = list(set(kdata.columns) & set(rdata.columns))\n",
    "kdata = kdata.reindex(samps, axis=1)\n",
    "rdata = rdata.reindex(samps, axis=1)\n",
    "\n",
    "# subset to common genes\n",
    "genes = list(set(kdata.index) & set(rdata.index))\n",
    "genes.sort()\n",
    "kdata = kdata.reindex(genes, axis=0)\n",
    "rdata = rdata.reindex(genes, axis=0)\n",
    "\n",
    "print(kdata.shape)\n",
    "print(rdata.shape)\n",
    "\n",
    "# subset to nuclear chromosomes\n",
    "annog = ds.get_anno_data('gene_name')\n",
    "kdata = kdata.loc[annog.loc[kdata.index, 'seqname'].isin(c_order)]\n",
    "rdata = rdata.loc[annog.loc[rdata.index, 'seqname'].isin(c_order)]\n",
    "print(kdata.shape)\n",
    "print(rdata.shape)"
   ]
  },
  {
   "cell_type": "code",
   "execution_count": 8,
   "metadata": {},
   "outputs": [
    {
     "name": "stdout",
     "output_type": "stream",
     "text": [
      "(18327, 8)\n"
     ]
    },
    {
     "data": {
      "text/html": [
       "<div>\n",
       "<style scoped>\n",
       "    .dataframe tbody tr th:only-of-type {\n",
       "        vertical-align: middle;\n",
       "    }\n",
       "\n",
       "    .dataframe tbody tr th {\n",
       "        vertical-align: top;\n",
       "    }\n",
       "\n",
       "    .dataframe thead th {\n",
       "        text-align: right;\n",
       "    }\n",
       "</style>\n",
       "<table border=\"1\" class=\"dataframe\">\n",
       "  <thead>\n",
       "    <tr style=\"text-align: right;\">\n",
       "      <th></th>\n",
       "      <th>gene_name</th>\n",
       "      <th>transcript_id</th>\n",
       "      <th>chrom</th>\n",
       "      <th>chrom_simple</th>\n",
       "      <th>mm_reads</th>\n",
       "      <th>tot_reads</th>\n",
       "      <th>frac_multimap</th>\n",
       "      <th>frac_unique</th>\n",
       "    </tr>\n",
       "  </thead>\n",
       "  <tbody>\n",
       "    <tr>\n",
       "      <td>0</td>\n",
       "      <td>A1BG</td>\n",
       "      <td>ENST00000595014</td>\n",
       "      <td>chr19</td>\n",
       "      <td>auto</td>\n",
       "      <td>1782</td>\n",
       "      <td>2225</td>\n",
       "      <td>0.801</td>\n",
       "      <td>0.199</td>\n",
       "    </tr>\n",
       "    <tr>\n",
       "      <td>1</td>\n",
       "      <td>A1CF</td>\n",
       "      <td>ENST00000374001</td>\n",
       "      <td>chr10</td>\n",
       "      <td>auto</td>\n",
       "      <td>202</td>\n",
       "      <td>9145</td>\n",
       "      <td>0.022</td>\n",
       "      <td>0.978</td>\n",
       "    </tr>\n",
       "    <tr>\n",
       "      <td>2</td>\n",
       "      <td>A2M</td>\n",
       "      <td>ENST00000318602</td>\n",
       "      <td>chr12</td>\n",
       "      <td>auto</td>\n",
       "      <td>79</td>\n",
       "      <td>4768</td>\n",
       "      <td>0.017</td>\n",
       "      <td>0.983</td>\n",
       "    </tr>\n",
       "    <tr>\n",
       "      <td>3</td>\n",
       "      <td>A2ML1</td>\n",
       "      <td>ENST00000299698</td>\n",
       "      <td>chr12</td>\n",
       "      <td>auto</td>\n",
       "      <td>0</td>\n",
       "      <td>5198</td>\n",
       "      <td>0.000</td>\n",
       "      <td>1.000</td>\n",
       "    </tr>\n",
       "    <tr>\n",
       "      <td>4</td>\n",
       "      <td>A3GALT2</td>\n",
       "      <td>ENST00000442999</td>\n",
       "      <td>chr1</td>\n",
       "      <td>auto</td>\n",
       "      <td>4</td>\n",
       "      <td>947</td>\n",
       "      <td>0.004</td>\n",
       "      <td>0.996</td>\n",
       "    </tr>\n",
       "  </tbody>\n",
       "</table>\n",
       "</div>"
      ],
      "text/plain": [
       "  gene_name    transcript_id  chrom chrom_simple  mm_reads  tot_reads  \\\n",
       "0      A1BG  ENST00000595014  chr19         auto      1782       2225   \n",
       "1      A1CF  ENST00000374001  chr10         auto       202       9145   \n",
       "2       A2M  ENST00000318602  chr12         auto        79       4768   \n",
       "3     A2ML1  ENST00000299698  chr12         auto         0       5198   \n",
       "4   A3GALT2  ENST00000442999   chr1         auto         4        947   \n",
       "\n",
       "   frac_multimap  frac_unique  \n",
       "0          0.801        0.199  \n",
       "1          0.022        0.978  \n",
       "2          0.017        0.983  \n",
       "3          0.000        1.000  \n",
       "4          0.004        0.996  "
      ]
     },
     "execution_count": 8,
     "metadata": {},
     "output_type": "execute_result"
    }
   ],
   "source": [
    "# subset to just the genes with expression levels\n",
    "mapp19 = mapp19.loc[mapp19.gene_name.isin(kdata.index)]\n",
    "print(mapp19.shape)\n",
    "mapp19.head()"
   ]
  },
  {
   "cell_type": "markdown",
   "metadata": {},
   "source": [
    "### Plot average mappability for genes on each chromosome"
   ]
  },
  {
   "cell_type": "code",
   "execution_count": 9,
   "metadata": {},
   "outputs": [
    {
     "data": {
      "image/png": "[encoded data removed]",
      "text/plain": [
       "<Figure size 216x144 with 1 Axes>"
      ]
     },
     "metadata": {
      "needs_background": "light"
     },
     "output_type": "display_data"
    }
   ],
   "source": [
    "fig, ax = plt.subplots(figsize=(3, 2))\n",
    "ax = sns.barplot(x='chrom', y='frac_unique', data=mapp19,\n",
    "                 order=c_order, color='0.7', ci=None,\n",
    "                 errwidth=0.5, errcolor='k')\n",
    "\n",
    "\n",
    "ax.set_xticklabels(list(map(lambda c: c.strip('chr'), c_order)))\n",
    "ax.set_xlabel('Chromosome')\n",
    "ax.set_yticks(np.arange(0, 1.2, 0.25))\n",
    "    \n",
    "ax.set_ylabel(\"Avg. proportion uniquely mapping reads\\nper gene\")\n",
    "    \n",
    "ax = pf.format_axis_labels(ax, ticklabsize=6)\n",
    "ax = pf.format_spines(ax)\n",
    "ax.spines['left'].set_bounds(0, 1)\n",
    "ax.grid(axis='y', ls='-', color='w', lw=0.5)\n",
    "\n",
    "fig.savefig(\"{}/mappability_by_chrom.pdf\".format(outdir))"
   ]
  },
  {
   "cell_type": "markdown",
   "metadata": {},
   "source": [
    "### Plot number of expressed genes with/without multi-mapping reads"
   ]
  },
  {
   "cell_type": "markdown",
   "metadata": {},
   "source": [
    "Get median expression level in each tissue"
   ]
  },
  {
   "cell_type": "code",
   "execution_count": 10,
   "metadata": {},
   "outputs": [
    {
     "name": "stdout",
     "output_type": "stream",
     "text": [
      "(18771, 35)\n",
      "(18771, 35)\n"
     ]
    }
   ],
   "source": [
    "mbt_k = general.stat_by_tissue(kdata, meta)\n",
    "mbt_r = general.stat_by_tissue(rdata, meta)\n",
    "print(mbt_k.shape)\n",
    "print(mbt_r.shape)"
   ]
  },
  {
   "cell_type": "markdown",
   "metadata": {},
   "source": [
    "Count number of tissues where expression is greater than 1 TPM and add to `mapp19`."
   ]
  },
  {
   "cell_type": "code",
   "execution_count": 11,
   "metadata": {},
   "outputs": [
    {
     "data": {
      "text/html": [
       "<div>\n",
       "<style scoped>\n",
       "    .dataframe tbody tr th:only-of-type {\n",
       "        vertical-align: middle;\n",
       "    }\n",
       "\n",
       "    .dataframe tbody tr th {\n",
       "        vertical-align: top;\n",
       "    }\n",
       "\n",
       "    .dataframe thead th {\n",
       "        text-align: right;\n",
       "    }\n",
       "</style>\n",
       "<table border=\"1\" class=\"dataframe\">\n",
       "  <thead>\n",
       "    <tr style=\"text-align: right;\">\n",
       "      <th></th>\n",
       "      <th>gene_name</th>\n",
       "      <th>transcript_id</th>\n",
       "      <th>chrom</th>\n",
       "      <th>chrom_simple</th>\n",
       "      <th>mm_reads</th>\n",
       "      <th>tot_reads</th>\n",
       "      <th>frac_multimap</th>\n",
       "      <th>frac_unique</th>\n",
       "      <th>n_tissues &gt;1TPM (kallisto)</th>\n",
       "      <th>n_tissues &gt;1TPM (rnaseqc)</th>\n",
       "    </tr>\n",
       "  </thead>\n",
       "  <tbody>\n",
       "    <tr>\n",
       "      <td>0</td>\n",
       "      <td>A1BG</td>\n",
       "      <td>ENST00000595014</td>\n",
       "      <td>chr19</td>\n",
       "      <td>auto</td>\n",
       "      <td>1782</td>\n",
       "      <td>2225</td>\n",
       "      <td>0.801</td>\n",
       "      <td>0.199</td>\n",
       "      <td>31</td>\n",
       "      <td>33</td>\n",
       "    </tr>\n",
       "    <tr>\n",
       "      <td>1</td>\n",
       "      <td>A1CF</td>\n",
       "      <td>ENST00000374001</td>\n",
       "      <td>chr10</td>\n",
       "      <td>auto</td>\n",
       "      <td>202</td>\n",
       "      <td>9145</td>\n",
       "      <td>0.022</td>\n",
       "      <td>0.978</td>\n",
       "      <td>4</td>\n",
       "      <td>4</td>\n",
       "    </tr>\n",
       "    <tr>\n",
       "      <td>2</td>\n",
       "      <td>A2M</td>\n",
       "      <td>ENST00000318602</td>\n",
       "      <td>chr12</td>\n",
       "      <td>auto</td>\n",
       "      <td>79</td>\n",
       "      <td>4768</td>\n",
       "      <td>0.017</td>\n",
       "      <td>0.983</td>\n",
       "      <td>35</td>\n",
       "      <td>35</td>\n",
       "    </tr>\n",
       "    <tr>\n",
       "      <td>3</td>\n",
       "      <td>A2ML1</td>\n",
       "      <td>ENST00000299698</td>\n",
       "      <td>chr12</td>\n",
       "      <td>auto</td>\n",
       "      <td>0</td>\n",
       "      <td>5198</td>\n",
       "      <td>0.000</td>\n",
       "      <td>1.000</td>\n",
       "      <td>10</td>\n",
       "      <td>11</td>\n",
       "    </tr>\n",
       "    <tr>\n",
       "      <td>4</td>\n",
       "      <td>A3GALT2</td>\n",
       "      <td>ENST00000442999</td>\n",
       "      <td>chr1</td>\n",
       "      <td>auto</td>\n",
       "      <td>4</td>\n",
       "      <td>947</td>\n",
       "      <td>0.004</td>\n",
       "      <td>0.996</td>\n",
       "      <td>1</td>\n",
       "      <td>1</td>\n",
       "    </tr>\n",
       "  </tbody>\n",
       "</table>\n",
       "</div>"
      ],
      "text/plain": [
       "  gene_name    transcript_id  chrom chrom_simple  mm_reads  tot_reads  \\\n",
       "0      A1BG  ENST00000595014  chr19         auto      1782       2225   \n",
       "1      A1CF  ENST00000374001  chr10         auto       202       9145   \n",
       "2       A2M  ENST00000318602  chr12         auto        79       4768   \n",
       "3     A2ML1  ENST00000299698  chr12         auto         0       5198   \n",
       "4   A3GALT2  ENST00000442999   chr1         auto         4        947   \n",
       "\n",
       "   frac_multimap  frac_unique  n_tissues >1TPM (kallisto)  \\\n",
       "0          0.801        0.199                          31   \n",
       "1          0.022        0.978                           4   \n",
       "2          0.017        0.983                          35   \n",
       "3          0.000        1.000                          10   \n",
       "4          0.004        0.996                           1   \n",
       "\n",
       "   n_tissues >1TPM (rnaseqc)  \n",
       "0                         33  \n",
       "1                          4  \n",
       "2                         35  \n",
       "3                         11  \n",
       "4                          1  "
      ]
     },
     "execution_count": 11,
     "metadata": {},
     "output_type": "execute_result"
    }
   ],
   "source": [
    "ntis = pd.DataFrame({'n_tissues >1TPM (kallisto)':mbt_k.gt(1).sum(axis=1),\n",
    "                     'n_tissues >1TPM (rnaseqc)':mbt_r.gt(1).sum(axis=1)})\n",
    "mapp19 = pd.merge(mapp19, ntis, left_on='gene_name', right_index=True, how='left')\n",
    "mapp19.head()"
   ]
  },
  {
   "cell_type": "code",
   "execution_count": 12,
   "metadata": {},
   "outputs": [],
   "source": [
    "mapp19_ = mapp19.set_index('gene_name')"
   ]
  },
  {
   "cell_type": "markdown",
   "metadata": {},
   "source": [
    "Count number of genes expressed above 1 TPM in any tissue"
   ]
  },
  {
   "cell_type": "code",
   "execution_count": 13,
   "metadata": {},
   "outputs": [],
   "source": [
    "df = pd.DataFrame({'kallisto_expressed':mapp19_['n_tissues >1TPM (kallisto)'].gt(0).astype(int),\n",
    "                   'rnaseqc_expressed':mapp19_['n_tissues >1TPM (rnaseqc)'].gt(0).astype(int)})\n",
    "df['chrom'] = annog.loc[df.index, 'seqname']\n",
    "\n",
    "cts = df.groupby('chrom').sum()\n",
    "cts['total_genes'] = df.chrom.value_counts()\n",
    "cts = cts.reindex(c_order, axis=0)\n",
    "\n",
    "# calculate proportions\n",
    "cts['frac_kallisto'] = cts['kallisto_expressed'] / cts['total_genes']\n",
    "cts['frac_rnaseqc'] = cts['rnaseqc_expressed'] / cts['total_genes']\n",
    "\n",
    "# add column for summarizing autosomes/chrX/chrY\n",
    "c_simple = []\n",
    "for c in cts.index:\n",
    "    if c in ('chrX', 'chrY'):\n",
    "        c_simple.append(c)\n",
    "    else:\n",
    "        c_simple.append('auto')\n",
    "cts['chrom_simple'] = c_simple\n",
    "cts = cts.reset_index()\n",
    "\n",
    "# create a melted dataframe for plotting\n",
    "cts_long = pd.melt(cts, id_vars=['chrom', 'chrom_simple'], \n",
    "                   value_vars=['frac_kallisto', 'frac_rnaseqc'],\n",
    "                   value_name='frac_expressed_genes',\n",
    "                   var_name='method')\n",
    "# simplify method names\n",
    "cts_long.loc[cts_long['method']=='frac_kallisto', 'method'] = 'kallisto'\n",
    "cts_long.loc[cts_long['method']=='frac_rnaseqc', 'method'] = 'rnaseqc'"
   ]
  },
  {
   "cell_type": "code",
   "execution_count": 14,
   "metadata": {},
   "outputs": [
    {
     "data": {
      "text/html": [
       "<div>\n",
       "<style scoped>\n",
       "    .dataframe tbody tr th:only-of-type {\n",
       "        vertical-align: middle;\n",
       "    }\n",
       "\n",
       "    .dataframe tbody tr th {\n",
       "        vertical-align: top;\n",
       "    }\n",
       "\n",
       "    .dataframe thead th {\n",
       "        text-align: right;\n",
       "    }\n",
       "</style>\n",
       "<table border=\"1\" class=\"dataframe\">\n",
       "  <thead>\n",
       "    <tr style=\"text-align: right;\">\n",
       "      <th></th>\n",
       "      <th>chrom</th>\n",
       "      <th>kallisto_expressed</th>\n",
       "      <th>rnaseqc_expressed</th>\n",
       "      <th>total_genes</th>\n",
       "      <th>frac_kallisto</th>\n",
       "      <th>frac_rnaseqc</th>\n",
       "      <th>chrom_simple</th>\n",
       "    </tr>\n",
       "  </thead>\n",
       "  <tbody>\n",
       "    <tr>\n",
       "      <td>0</td>\n",
       "      <td>chr1</td>\n",
       "      <td>1798</td>\n",
       "      <td>1795</td>\n",
       "      <td>1898</td>\n",
       "      <td>0.947313</td>\n",
       "      <td>0.945732</td>\n",
       "      <td>auto</td>\n",
       "    </tr>\n",
       "    <tr>\n",
       "      <td>1</td>\n",
       "      <td>chr2</td>\n",
       "      <td>1152</td>\n",
       "      <td>1148</td>\n",
       "      <td>1172</td>\n",
       "      <td>0.982935</td>\n",
       "      <td>0.979522</td>\n",
       "      <td>auto</td>\n",
       "    </tr>\n",
       "    <tr>\n",
       "      <td>2</td>\n",
       "      <td>chr3</td>\n",
       "      <td>984</td>\n",
       "      <td>980</td>\n",
       "      <td>1011</td>\n",
       "      <td>0.973294</td>\n",
       "      <td>0.969337</td>\n",
       "      <td>auto</td>\n",
       "    </tr>\n",
       "    <tr>\n",
       "      <td>3</td>\n",
       "      <td>chr4</td>\n",
       "      <td>671</td>\n",
       "      <td>667</td>\n",
       "      <td>709</td>\n",
       "      <td>0.946403</td>\n",
       "      <td>0.940762</td>\n",
       "      <td>auto</td>\n",
       "    </tr>\n",
       "    <tr>\n",
       "      <td>4</td>\n",
       "      <td>chr5</td>\n",
       "      <td>803</td>\n",
       "      <td>798</td>\n",
       "      <td>821</td>\n",
       "      <td>0.978076</td>\n",
       "      <td>0.971985</td>\n",
       "      <td>auto</td>\n",
       "    </tr>\n",
       "  </tbody>\n",
       "</table>\n",
       "</div>"
      ],
      "text/plain": [
       "  chrom  kallisto_expressed  rnaseqc_expressed  total_genes  frac_kallisto  \\\n",
       "0  chr1                1798               1795         1898       0.947313   \n",
       "1  chr2                1152               1148         1172       0.982935   \n",
       "2  chr3                 984                980         1011       0.973294   \n",
       "3  chr4                 671                667          709       0.946403   \n",
       "4  chr5                 803                798          821       0.978076   \n",
       "\n",
       "   frac_rnaseqc chrom_simple  \n",
       "0      0.945732         auto  \n",
       "1      0.979522         auto  \n",
       "2      0.969337         auto  \n",
       "3      0.940762         auto  \n",
       "4      0.971985         auto  "
      ]
     },
     "execution_count": 14,
     "metadata": {},
     "output_type": "execute_result"
    }
   ],
   "source": [
    "cts.head()"
   ]
  },
  {
   "cell_type": "code",
   "execution_count": 15,
   "metadata": {},
   "outputs": [
    {
     "data": {
      "text/html": [
       "<div>\n",
       "<style scoped>\n",
       "    .dataframe tbody tr th:only-of-type {\n",
       "        vertical-align: middle;\n",
       "    }\n",
       "\n",
       "    .dataframe tbody tr th {\n",
       "        vertical-align: top;\n",
       "    }\n",
       "\n",
       "    .dataframe thead th {\n",
       "        text-align: right;\n",
       "    }\n",
       "</style>\n",
       "<table border=\"1\" class=\"dataframe\">\n",
       "  <thead>\n",
       "    <tr style=\"text-align: right;\">\n",
       "      <th></th>\n",
       "      <th>chrom</th>\n",
       "      <th>chrom_simple</th>\n",
       "      <th>method</th>\n",
       "      <th>frac_expressed_genes</th>\n",
       "    </tr>\n",
       "  </thead>\n",
       "  <tbody>\n",
       "    <tr>\n",
       "      <td>0</td>\n",
       "      <td>chr1</td>\n",
       "      <td>auto</td>\n",
       "      <td>kallisto</td>\n",
       "      <td>0.947313</td>\n",
       "    </tr>\n",
       "    <tr>\n",
       "      <td>1</td>\n",
       "      <td>chr2</td>\n",
       "      <td>auto</td>\n",
       "      <td>kallisto</td>\n",
       "      <td>0.982935</td>\n",
       "    </tr>\n",
       "    <tr>\n",
       "      <td>2</td>\n",
       "      <td>chr3</td>\n",
       "      <td>auto</td>\n",
       "      <td>kallisto</td>\n",
       "      <td>0.973294</td>\n",
       "    </tr>\n",
       "    <tr>\n",
       "      <td>3</td>\n",
       "      <td>chr4</td>\n",
       "      <td>auto</td>\n",
       "      <td>kallisto</td>\n",
       "      <td>0.946403</td>\n",
       "    </tr>\n",
       "    <tr>\n",
       "      <td>4</td>\n",
       "      <td>chr5</td>\n",
       "      <td>auto</td>\n",
       "      <td>kallisto</td>\n",
       "      <td>0.978076</td>\n",
       "    </tr>\n",
       "  </tbody>\n",
       "</table>\n",
       "</div>"
      ],
      "text/plain": [
       "  chrom chrom_simple    method  frac_expressed_genes\n",
       "0  chr1         auto  kallisto              0.947313\n",
       "1  chr2         auto  kallisto              0.982935\n",
       "2  chr3         auto  kallisto              0.973294\n",
       "3  chr4         auto  kallisto              0.946403\n",
       "4  chr5         auto  kallisto              0.978076"
      ]
     },
     "execution_count": 15,
     "metadata": {},
     "output_type": "execute_result"
    }
   ],
   "source": [
    "cts_long.head()"
   ]
  },
  {
   "cell_type": "markdown",
   "metadata": {},
   "source": [
    "Plot"
   ]
  },
  {
   "cell_type": "code",
   "execution_count": 16,
   "metadata": {},
   "outputs": [
    {
     "name": "stdout",
     "output_type": "stream",
     "text": [
      "kallisto, autosomes (min, max) = (0.779, 0.989)\n",
      "rnaseqc,  autosomes (min, max) = (0.784, 0.985)\n"
     ]
    },
    {
     "data": {
      "image/png": "[encoded data removed]",
      "text/plain": [
       "<Figure size 90x144 with 1 Axes>"
      ]
     },
     "metadata": {
      "needs_background": "light"
     },
     "output_type": "display_data"
    }
   ],
   "source": [
    "fig, ax = plt.subplots(figsize=(1.25, 2))\n",
    "ax = sns.barplot(x='chrom_simple', y='frac_expressed_genes', hue='method', data=cts_long,\n",
    "                 hue_order=['rnaseqc', 'kallisto'],\n",
    "                 palette={'rnaseqc':'0.7', 'kallisto':'#ef6548'}, ci=None)\n",
    "\n",
    "# manually add max/min values among autosomal chromosomes\n",
    "## get max and min values for autosomes\n",
    "auto_rows = cts_long['chrom_simple']=='auto'\n",
    "k_rows = cts_long['method']=='kallisto'\n",
    "amax_k = cts_long.loc[auto_rows & k_rows, 'frac_expressed_genes'].max()\n",
    "amin_k = cts_long.loc[auto_rows & k_rows, 'frac_expressed_genes'].min()\n",
    "amax_r = cts_long.loc[auto_rows & (~k_rows), 'frac_expressed_genes'].max()\n",
    "amin_r = cts_long.loc[auto_rows & (~k_rows), 'frac_expressed_genes'].min()\n",
    "print(\"kallisto, autosomes (min, max) = ({0:.3f}, {1:.3f})\".format(amin_k, amax_k))\n",
    "print(\"rnaseqc,  autosomes (min, max) = ({0:.3f}, {1:.3f})\".format(amin_r, amax_r))\n",
    "## plot lines\n",
    "ax.plot([-0.2, -0.2], [amin_r, amax_r], lw=0.5, color='k')\n",
    "ax.plot([0.2, 0.2], [amin_k, amax_k], lw=0.5, color='k')\n",
    "\n",
    "# annotate values for chrY on plot\n",
    "yvals = cts_long.loc[cts_long['chrom_simple']=='chrY', ['frac_expressed_genes', 'method']].set_index('method')\n",
    "y_r = yvals.at['rnaseqc', 'frac_expressed_genes']\n",
    "y_k = yvals.at['kallisto', 'frac_expressed_genes']\n",
    "ax.text(1.8, y_r+0.02, \"{:.2f}\".format(y_r), size=6, color='k',\n",
    "        horizontalalignment='center', verticalalignment='bottom')\n",
    "ax.text(2.2, y_k+0.02, \"{:.2f}\".format(y_k), size=6, color='k',\n",
    "        horizontalalignment='center', verticalalignment='bottom')\n",
    "\n",
    "# plot formatting\n",
    "ax.set_ylabel(\"Proportion of genes >1 TPM in ≥1 tissue\")\n",
    "ax = pf.format_spines(ax)\n",
    "ax = pf.format_axis_labels(ax)\n",
    "ax.grid(axis='y', ls='-', color='w', lw=0.5)\n",
    "ax.set_yticks(np.arange(0, 1.25, 0.25))\n",
    "ax.spines['left'].set_bounds(0, 1)\n",
    "ax.legend(loc='upper left', bbox_to_anchor=(1, 1))\n",
    "\n",
    "fig.savefig(\"{}/fraction_expressed_genes_by_chrom.pdf\".format(outdir))"
   ]
  },
  {
   "cell_type": "markdown",
   "metadata": {},
   "source": [
    "### Compare kallisto vs. RNA-SeQC gene expression levels in the testis"
   ]
  },
  {
   "cell_type": "markdown",
   "metadata": {},
   "source": [
    "Extract testis expression levels and normalize by upper-quartile method"
   ]
  },
  {
   "cell_type": "code",
   "execution_count": 17,
   "metadata": {},
   "outputs": [
    {
     "name": "stdout",
     "output_type": "stream",
     "text": [
      "before normalization, CD55\n",
      "RNA-SeQC: 30.8 TPM\n",
      "kallisto: 39.8 TPM\n",
      "\n",
      "after normalization, CD55\n",
      "RNA-SeQC: 39.8 TPM\n",
      "kallisto: 39.8 TPM\n"
     ]
    }
   ],
   "source": [
    "tdata = pd.DataFrame({'rnaseqc':mbt_r['Testis'], 'kallisto':mbt_k['Testis']})\n",
    "tdata = tdata.loc[tdata.index.isin(mapp19['gene_name'])]\n",
    "\n",
    "# find gene with avg. rank closest to 75th percentile\n",
    "gene75 = np.abs((tdata.rank(axis=0, pct=True).mean(axis=1) - 0.75)).sort_values().index[0]\n",
    "print(\"before normalization, {}\".format(gene75))\n",
    "print(\"RNA-SeQC: {:.1f} TPM\".format(tdata.at[gene75, 'rnaseqc']))\n",
    "print(\"kallisto: {:.1f} TPM\".format(tdata.at[gene75, 'kallisto']))\n",
    "\n",
    "# normalize\n",
    "kr_ratio = tdata.at[gene75, 'kallisto'] / tdata.at[gene75, 'rnaseqc']\n",
    "tdata.loc[:, 'rnaseqc'] *= kr_ratio\n",
    "print(\"\\nafter normalization, {}\".format(gene75))\n",
    "print(\"RNA-SeQC: {:.1f} TPM\".format(tdata.at[gene75, 'rnaseqc']))\n",
    "print(\"kallisto: {:.1f} TPM\".format(tdata.at[gene75, 'kallisto']))"
   ]
  },
  {
   "cell_type": "markdown",
   "metadata": {},
   "source": [
    "Add chromosome and mappability annotation to data"
   ]
  },
  {
   "cell_type": "code",
   "execution_count": 18,
   "metadata": {},
   "outputs": [
    {
     "data": {
      "text/html": [
       "<div>\n",
       "<style scoped>\n",
       "    .dataframe tbody tr th:only-of-type {\n",
       "        vertical-align: middle;\n",
       "    }\n",
       "\n",
       "    .dataframe tbody tr th {\n",
       "        vertical-align: top;\n",
       "    }\n",
       "\n",
       "    .dataframe thead th {\n",
       "        text-align: right;\n",
       "    }\n",
       "</style>\n",
       "<table border=\"1\" class=\"dataframe\">\n",
       "  <thead>\n",
       "    <tr style=\"text-align: right;\">\n",
       "      <th></th>\n",
       "      <th>rnaseqc</th>\n",
       "      <th>kallisto</th>\n",
       "      <th>gene_name</th>\n",
       "      <th>chrom_simple</th>\n",
       "      <th>frac_unique</th>\n",
       "      <th>mappability</th>\n",
       "    </tr>\n",
       "  </thead>\n",
       "  <tbody>\n",
       "    <tr>\n",
       "      <td>0</td>\n",
       "      <td>2.124350</td>\n",
       "      <td>1.333694</td>\n",
       "      <td>A1BG</td>\n",
       "      <td>auto</td>\n",
       "      <td>0.199</td>\n",
       "      <td>&lt;25%</td>\n",
       "    </tr>\n",
       "    <tr>\n",
       "      <td>1</td>\n",
       "      <td>0.062961</td>\n",
       "      <td>0.151164</td>\n",
       "      <td>A1CF</td>\n",
       "      <td>auto</td>\n",
       "      <td>0.978</td>\n",
       "      <td>&gt;50%</td>\n",
       "    </tr>\n",
       "    <tr>\n",
       "      <td>2</td>\n",
       "      <td>83.342602</td>\n",
       "      <td>43.988567</td>\n",
       "      <td>A2M</td>\n",
       "      <td>auto</td>\n",
       "      <td>0.983</td>\n",
       "      <td>&gt;50%</td>\n",
       "    </tr>\n",
       "    <tr>\n",
       "      <td>3</td>\n",
       "      <td>10.891923</td>\n",
       "      <td>8.886380</td>\n",
       "      <td>A2ML1</td>\n",
       "      <td>auto</td>\n",
       "      <td>1.000</td>\n",
       "      <td>&gt;50%</td>\n",
       "    </tr>\n",
       "    <tr>\n",
       "      <td>4</td>\n",
       "      <td>1.897959</td>\n",
       "      <td>1.565776</td>\n",
       "      <td>A3GALT2</td>\n",
       "      <td>auto</td>\n",
       "      <td>0.996</td>\n",
       "      <td>&gt;50%</td>\n",
       "    </tr>\n",
       "  </tbody>\n",
       "</table>\n",
       "</div>"
      ],
      "text/plain": [
       "     rnaseqc   kallisto gene_name chrom_simple  frac_unique mappability\n",
       "0   2.124350   1.333694      A1BG         auto        0.199        <25%\n",
       "1   0.062961   0.151164      A1CF         auto        0.978        >50%\n",
       "2  83.342602  43.988567       A2M         auto        0.983        >50%\n",
       "3  10.891923   8.886380     A2ML1         auto        1.000        >50%\n",
       "4   1.897959   1.565776   A3GALT2         auto        0.996        >50%"
      ]
     },
     "execution_count": 18,
     "metadata": {},
     "output_type": "execute_result"
    }
   ],
   "source": [
    "tdata = pd.merge(tdata, mapp19[['gene_name', 'chrom_simple', 'frac_unique']], \n",
    "                 left_index=True, right_on='gene_name', how='inner')\n",
    "\n",
    "# use three buckets for mappability\n",
    "tdata['mappability'] = '<25%'\n",
    "for m, lab in zip([0.25, 0.5], [\"25-50%\", \">50%\"]):\n",
    "    tdata.loc[tdata['frac_unique'] >= m, 'mappability'] = lab\n",
    "    \n",
    "tdata.head()"
   ]
  },
  {
   "cell_type": "code",
   "execution_count": 19,
   "metadata": {},
   "outputs": [
    {
     "data": {
      "text/html": [
       "<div>\n",
       "<style scoped>\n",
       "    .dataframe tbody tr th:only-of-type {\n",
       "        vertical-align: middle;\n",
       "    }\n",
       "\n",
       "    .dataframe tbody tr th {\n",
       "        vertical-align: top;\n",
       "    }\n",
       "\n",
       "    .dataframe thead th {\n",
       "        text-align: right;\n",
       "    }\n",
       "</style>\n",
       "<table border=\"1\" class=\"dataframe\">\n",
       "  <thead>\n",
       "    <tr style=\"text-align: right;\">\n",
       "      <th></th>\n",
       "      <th>gene_name</th>\n",
       "      <th>transcript_id</th>\n",
       "      <th>chrom</th>\n",
       "      <th>chrom_simple</th>\n",
       "      <th>mm_reads</th>\n",
       "      <th>tot_reads</th>\n",
       "      <th>frac_multimap</th>\n",
       "      <th>frac_unique</th>\n",
       "      <th>n_tissues &gt;1TPM (kallisto)</th>\n",
       "      <th>n_tissues &gt;1TPM (rnaseqc)</th>\n",
       "      <th>testis TPM (kallisto)</th>\n",
       "      <th>testis TPM (rnaseqc)</th>\n",
       "    </tr>\n",
       "  </thead>\n",
       "  <tbody>\n",
       "    <tr>\n",
       "      <td>0</td>\n",
       "      <td>A1BG</td>\n",
       "      <td>ENST00000595014</td>\n",
       "      <td>chr19</td>\n",
       "      <td>auto</td>\n",
       "      <td>1782</td>\n",
       "      <td>2225</td>\n",
       "      <td>0.801</td>\n",
       "      <td>0.199</td>\n",
       "      <td>31</td>\n",
       "      <td>33</td>\n",
       "      <td>1.333694</td>\n",
       "      <td>2.124350</td>\n",
       "    </tr>\n",
       "    <tr>\n",
       "      <td>1</td>\n",
       "      <td>A1CF</td>\n",
       "      <td>ENST00000374001</td>\n",
       "      <td>chr10</td>\n",
       "      <td>auto</td>\n",
       "      <td>202</td>\n",
       "      <td>9145</td>\n",
       "      <td>0.022</td>\n",
       "      <td>0.978</td>\n",
       "      <td>4</td>\n",
       "      <td>4</td>\n",
       "      <td>0.151164</td>\n",
       "      <td>0.062961</td>\n",
       "    </tr>\n",
       "    <tr>\n",
       "      <td>2</td>\n",
       "      <td>A2M</td>\n",
       "      <td>ENST00000318602</td>\n",
       "      <td>chr12</td>\n",
       "      <td>auto</td>\n",
       "      <td>79</td>\n",
       "      <td>4768</td>\n",
       "      <td>0.017</td>\n",
       "      <td>0.983</td>\n",
       "      <td>35</td>\n",
       "      <td>35</td>\n",
       "      <td>43.988567</td>\n",
       "      <td>83.342602</td>\n",
       "    </tr>\n",
       "    <tr>\n",
       "      <td>3</td>\n",
       "      <td>A2ML1</td>\n",
       "      <td>ENST00000299698</td>\n",
       "      <td>chr12</td>\n",
       "      <td>auto</td>\n",
       "      <td>0</td>\n",
       "      <td>5198</td>\n",
       "      <td>0.000</td>\n",
       "      <td>1.000</td>\n",
       "      <td>10</td>\n",
       "      <td>11</td>\n",
       "      <td>8.886380</td>\n",
       "      <td>10.891923</td>\n",
       "    </tr>\n",
       "    <tr>\n",
       "      <td>4</td>\n",
       "      <td>A3GALT2</td>\n",
       "      <td>ENST00000442999</td>\n",
       "      <td>chr1</td>\n",
       "      <td>auto</td>\n",
       "      <td>4</td>\n",
       "      <td>947</td>\n",
       "      <td>0.004</td>\n",
       "      <td>0.996</td>\n",
       "      <td>1</td>\n",
       "      <td>1</td>\n",
       "      <td>1.565776</td>\n",
       "      <td>1.897959</td>\n",
       "    </tr>\n",
       "  </tbody>\n",
       "</table>\n",
       "</div>"
      ],
      "text/plain": [
       "  gene_name    transcript_id  chrom chrom_simple  mm_reads  tot_reads  \\\n",
       "0      A1BG  ENST00000595014  chr19         auto      1782       2225   \n",
       "1      A1CF  ENST00000374001  chr10         auto       202       9145   \n",
       "2       A2M  ENST00000318602  chr12         auto        79       4768   \n",
       "3     A2ML1  ENST00000299698  chr12         auto         0       5198   \n",
       "4   A3GALT2  ENST00000442999   chr1         auto         4        947   \n",
       "\n",
       "   frac_multimap  frac_unique  n_tissues >1TPM (kallisto)  \\\n",
       "0          0.801        0.199                          31   \n",
       "1          0.022        0.978                           4   \n",
       "2          0.017        0.983                          35   \n",
       "3          0.000        1.000                          10   \n",
       "4          0.004        0.996                           1   \n",
       "\n",
       "   n_tissues >1TPM (rnaseqc)  testis TPM (kallisto)  testis TPM (rnaseqc)  \n",
       "0                         33               1.333694              2.124350  \n",
       "1                          4               0.151164              0.062961  \n",
       "2                         35              43.988567             83.342602  \n",
       "3                         11               8.886380             10.891923  \n",
       "4                          1               1.565776              1.897959  "
      ]
     },
     "execution_count": 19,
     "metadata": {},
     "output_type": "execute_result"
    }
   ],
   "source": [
    "mapp19 = pd.merge(mapp19, tdata[['gene_name', 'kallisto', 'rnaseqc']], on='gene_name')\n",
    "mapp19 = mapp19.rename(columns={'kallisto':'testis TPM (kallisto)', \n",
    "                                'rnaseqc':'testis TPM (rnaseqc)'})\n",
    "mapp19.head()"
   ]
  },
  {
   "cell_type": "code",
   "execution_count": 20,
   "metadata": {},
   "outputs": [
    {
     "data": {
      "text/plain": [
       ">50%      17441\n",
       "<25%        515\n",
       "25-50%      371\n",
       "Name: mappability, dtype: int64"
      ]
     },
     "execution_count": 20,
     "metadata": {},
     "output_type": "execute_result"
    }
   ],
   "source": [
    "tdata.mappability.value_counts()"
   ]
  },
  {
   "cell_type": "markdown",
   "metadata": {},
   "source": [
    "Save soruce data of mappability vs TPM in testis as well as mappability values"
   ]
  },
  {
   "cell_type": "code",
   "execution_count": 21,
   "metadata": {},
   "outputs": [],
   "source": [
    "mapp19.to_csv(\"{}/mappability_vs_expression_statistics.txt\".format(outdir), \n",
    "              sep='\\t', index=False)"
   ]
  },
  {
   "cell_type": "markdown",
   "metadata": {},
   "source": [
    "Plot comparison"
   ]
  },
  {
   "cell_type": "code",
   "execution_count": 22,
   "metadata": {},
   "outputs": [
    {
     "data": {
      "image/png": "[encoded data removed]",
      "text/plain": [
       "<Figure size 432x144 with 3 Axes>"
      ]
     },
     "metadata": {
      "needs_background": "light"
     },
     "output_type": "display_data"
    }
   ],
   "source": [
    "fig, axes = plt.subplots(1, 3, figsize=(6, 2))\n",
    "fig.subplots_adjust(wspace=0.3, right=0.98, left=0.08)\n",
    "\n",
    "n_autogenes = 5000\n",
    "palette = {'>50%':'0.6', \n",
    "           '25-50%':'#f768a1', \n",
    "           '<25%':'#ae017e'}\n",
    "\n",
    "for ax, c in zip(axes, ['auto', 'chrX', 'chrY']):\n",
    "    df_c = tdata.loc[tdata['chrom_simple']==c].copy()\n",
    "    \n",
    "    # sample 5000 random autosomal genes (for ease of display)\n",
    "    if c == 'auto':\n",
    "        rgenes = np.random.choice(df_c['gene_name'], size=n_autogenes, replace=False)\n",
    "        df_c = df_c.loc[df_c.gene_name.isin(rgenes)].copy()\n",
    "    \n",
    "    # trim expression levels at 1000 TPM (for ease of display)\n",
    "    df_c['rnaseqc'] = np.log10(df_c['rnaseqc'] + 0.1)\n",
    "    df_c['kallisto'] = np.log10(df_c['kallisto'] + 0.1)\n",
    "    df_c.loc[df_c.rnaseqc > 3, 'rnaseqc'] = 3\n",
    "    df_c.loc[df_c.kallisto > 3, 'kallisto'] = 3\n",
    "    \n",
    "    if c == 'auto':\n",
    "        s = 8\n",
    "        a = 0.4\n",
    "    else:\n",
    "        s = 18\n",
    "        a = 0.6\n",
    "    for m in ['>50%', '25-50%', '<25%']:\n",
    "        ax.scatter(df_c.loc[df_c['mappability']==m, 'kallisto'],\n",
    "                   df_c.loc[df_c['mappability']==m, 'rnaseqc'],\n",
    "                   edgecolors='none', facecolors=palette[m], s=s,\n",
    "                   alpha=a, label=m)\n",
    "    \n",
    "    # format axis labels\n",
    "    ax.set_xlim([-1.2, 3.2])\n",
    "    ax.set_ylim([-1.2, 3.2])\n",
    "    ax = pf.format_spines(ax)\n",
    "    for side in ['left', 'bottom']:\n",
    "        ax.spines[side].set_bounds(-1, 3)\n",
    "    ax.set_xticks([-1, 0, 1, 2, 3])\n",
    "    ax.set_yticks([-1, 0, 1, 2, 3])\n",
    "    ax.set_xlabel('kallisto log10(TPM + 0.1)')\n",
    "    ax.set_ylabel('RNA-SeQC log10(TPM + 0.1)')\n",
    "    r, p = ss.spearmanr(df_c['rnaseqc'], df_c['kallisto'])\n",
    "    if c == 'auto':\n",
    "        ax.set_title(\"autosomes (random {0} genes)\\nSpearman rho={1:.3f}\".format(n_autogenes, r))\n",
    "    else:\n",
    "        ax.set_title(\"{0}: Spearman rho={1:.3f}\".format(c, r))\n",
    "    ax = pf.format_axis_labels(ax)\n",
    "    \n",
    "    # turn off legend except in autosomal plot\n",
    "    if c == 'auto':\n",
    "        ax.legend()\n",
    "    \n",
    "fig.savefig(\"{}/gtex_vs_kallisto_mappability.pdf\".format(outdir))"
   ]
  },
  {
   "cell_type": "markdown",
   "metadata": {},
   "source": [
    "### Compare *HSFY* expression levels"
   ]
  },
  {
   "cell_type": "markdown",
   "metadata": {},
   "source": [
    "Create merged dataframe of samples from the two methods"
   ]
  },
  {
   "cell_type": "code",
   "execution_count": 23,
   "metadata": {},
   "outputs": [
    {
     "name": "stdout",
     "output_type": "stream",
     "text": [
      "True\n"
     ]
    }
   ],
   "source": [
    "print(kdata.shape == rdata.shape)"
   ]
  },
  {
   "cell_type": "code",
   "execution_count": 24,
   "metadata": {},
   "outputs": [
    {
     "name": "stdout",
     "output_type": "stream",
     "text": [
      "(18771, 7378)\n"
     ]
    }
   ],
   "source": [
    "krdata = pd.merge(kdata, rdata, left_index=True, right_index=True, suffixes=['_k', '_r'])\n",
    "print(krdata.shape)"
   ]
  },
  {
   "cell_type": "markdown",
   "metadata": {},
   "source": [
    "Apply housekeeping normalization across all samples"
   ]
  },
  {
   "cell_type": "code",
   "execution_count": null,
   "metadata": {},
   "outputs": [],
   "source": [
    "krdata = general.housekeeping_normalize(krdata)"
   ]
  },
  {
   "cell_type": "markdown",
   "metadata": {},
   "source": [
    "Create long-form dataframe of HSFY expression levels"
   ]
  },
  {
   "cell_type": "code",
   "execution_count": null,
   "metadata": {},
   "outputs": [],
   "source": [
    "hsfy = pd.DataFrame({'HSFY_TPM':krdata.loc['HSFY1']+krdata.loc['HSFY2']})\n",
    "hsfy['method'] = list(map(lambda s: 'kallisto' if s.endswith('k') else 'rnaseqc', hsfy.index))\n",
    "hsfy['SAMPID'] = list(map(lambda s: s.rsplit('_', 1)[0], hsfy.index))\n",
    "hsfy = pd.merge(hsfy, meta[['SAMPID', 'TISSUE']], on='SAMPID')\n",
    "hsfy.head()"
   ]
  },
  {
   "cell_type": "markdown",
   "metadata": {},
   "source": [
    "Save source data"
   ]
  },
  {
   "cell_type": "code",
   "execution_count": 82,
   "metadata": {},
   "outputs": [
    {
     "data": {
      "text/html": [
       "<div>\n",
       "<style scoped>\n",
       "    .dataframe tbody tr th:only-of-type {\n",
       "        vertical-align: middle;\n",
       "    }\n",
       "\n",
       "    .dataframe tbody tr th {\n",
       "        vertical-align: top;\n",
       "    }\n",
       "\n",
       "    .dataframe thead th {\n",
       "        text-align: right;\n",
       "    }\n",
       "</style>\n",
       "<table border=\"1\" class=\"dataframe\">\n",
       "  <thead>\n",
       "    <tr style=\"text-align: right;\">\n",
       "      <th></th>\n",
       "      <th>kallisto TPM</th>\n",
       "      <th>RNA-SeQC TPM</th>\n",
       "      <th>TISSUE</th>\n",
       "    </tr>\n",
       "    <tr>\n",
       "      <th>SAMPID</th>\n",
       "      <th></th>\n",
       "      <th></th>\n",
       "      <th></th>\n",
       "    </tr>\n",
       "  </thead>\n",
       "  <tbody>\n",
       "    <tr>\n",
       "      <td>GTEX-XAJ8-0926-SM-47JXZ</td>\n",
       "      <td>0.172552</td>\n",
       "      <td>0.00000</td>\n",
       "      <td>Adipose - Subcutaneous</td>\n",
       "    </tr>\n",
       "    <tr>\n",
       "      <td>GTEX-13OVL-0326-SM-5IJCS</td>\n",
       "      <td>0.083084</td>\n",
       "      <td>0.00000</td>\n",
       "      <td>Adipose - Subcutaneous</td>\n",
       "    </tr>\n",
       "    <tr>\n",
       "      <td>GTEX-WL46-0326-SM-3LK6Y</td>\n",
       "      <td>0.196438</td>\n",
       "      <td>0.00000</td>\n",
       "      <td>Adipose - Subcutaneous</td>\n",
       "    </tr>\n",
       "    <tr>\n",
       "      <td>GTEX-13OW6-0526-SM-5L3HY</td>\n",
       "      <td>0.337523</td>\n",
       "      <td>0.00000</td>\n",
       "      <td>Adipose - Subcutaneous</td>\n",
       "    </tr>\n",
       "    <tr>\n",
       "      <td>GTEX-11GS4-2626-SM-5A5LD</td>\n",
       "      <td>0.581658</td>\n",
       "      <td>0.03324</td>\n",
       "      <td>Adipose - Subcutaneous</td>\n",
       "    </tr>\n",
       "  </tbody>\n",
       "</table>\n",
       "</div>"
      ],
      "text/plain": [
       "                          kallisto TPM  RNA-SeQC TPM                  TISSUE\n",
       "SAMPID                                                                      \n",
       "GTEX-XAJ8-0926-SM-47JXZ       0.172552       0.00000  Adipose - Subcutaneous\n",
       "GTEX-13OVL-0326-SM-5IJCS      0.083084       0.00000  Adipose - Subcutaneous\n",
       "GTEX-WL46-0326-SM-3LK6Y       0.196438       0.00000  Adipose - Subcutaneous\n",
       "GTEX-13OW6-0526-SM-5L3HY      0.337523       0.00000  Adipose - Subcutaneous\n",
       "GTEX-11GS4-2626-SM-5A5LD      0.581658       0.03324  Adipose - Subcutaneous"
      ]
     },
     "execution_count": 82,
     "metadata": {},
     "output_type": "execute_result"
    }
   ],
   "source": [
    "hsfy_full = pd.pivot(hsfy, index='SAMPID', columns='method', values='HSFY_TPM')\n",
    "hsfy_full['TISSUE'] = meta_.loc[hsfy_full.index, 'TISSUE']\n",
    "hsfy_full.columns.name = ''\n",
    "hsfy_full = hsfy_full.rename(columns={'kallisto':'kallisto TPM', 'rnaseqc':'RNA-SeQC TPM'})\n",
    "hsfy_full = hsfy_full.sort_values('TISSUE')\n",
    "hsfy_full.head()"
   ]
  },
  {
   "cell_type": "code",
   "execution_count": 85,
   "metadata": {},
   "outputs": [],
   "source": [
    "# sample-level TPM values\n",
    "hsfy_full.to_csv(\"{}/HSFY_kallisto_rnaseqc_sample_TPM.txt\".format(outdir), sep='\\t')"
   ]
  },
  {
   "cell_type": "code",
   "execution_count": 88,
   "metadata": {},
   "outputs": [
    {
     "data": {
      "text/html": [
       "<div>\n",
       "<style scoped>\n",
       "    .dataframe tbody tr th:only-of-type {\n",
       "        vertical-align: middle;\n",
       "    }\n",
       "\n",
       "    .dataframe tbody tr th {\n",
       "        vertical-align: top;\n",
       "    }\n",
       "\n",
       "    .dataframe thead th {\n",
       "        text-align: right;\n",
       "    }\n",
       "</style>\n",
       "<table border=\"1\" class=\"dataframe\">\n",
       "  <thead>\n",
       "    <tr style=\"text-align: right;\">\n",
       "      <th></th>\n",
       "      <th>kallisto TPM</th>\n",
       "      <th>RNA-SeQC TPM</th>\n",
       "    </tr>\n",
       "    <tr>\n",
       "      <th>TISSUE</th>\n",
       "      <th></th>\n",
       "      <th></th>\n",
       "    </tr>\n",
       "  </thead>\n",
       "  <tbody>\n",
       "    <tr>\n",
       "      <td>Adipose - Subcutaneous</td>\n",
       "      <td>0.285485</td>\n",
       "      <td>0.008576</td>\n",
       "    </tr>\n",
       "    <tr>\n",
       "      <td>Adipose - Visceral</td>\n",
       "      <td>0.232189</td>\n",
       "      <td>0.000000</td>\n",
       "    </tr>\n",
       "    <tr>\n",
       "      <td>Adrenal Gland</td>\n",
       "      <td>0.203927</td>\n",
       "      <td>0.000000</td>\n",
       "    </tr>\n",
       "    <tr>\n",
       "      <td>Artery - Aorta</td>\n",
       "      <td>0.239270</td>\n",
       "      <td>0.007554</td>\n",
       "    </tr>\n",
       "    <tr>\n",
       "      <td>Artery - Coronary</td>\n",
       "      <td>0.280429</td>\n",
       "      <td>0.015023</td>\n",
       "    </tr>\n",
       "  </tbody>\n",
       "</table>\n",
       "</div>"
      ],
      "text/plain": [
       "                        kallisto TPM  RNA-SeQC TPM\n",
       "TISSUE                                            \n",
       "Adipose - Subcutaneous      0.285485      0.008576\n",
       "Adipose - Visceral          0.232189      0.000000\n",
       "Adrenal Gland               0.203927      0.000000\n",
       "Artery - Aorta              0.239270      0.007554\n",
       "Artery - Coronary           0.280429      0.015023"
      ]
     },
     "execution_count": 88,
     "metadata": {},
     "output_type": "execute_result"
    }
   ],
   "source": [
    "# tissue-level TPM values\n",
    "hsfy_tissue = hsfy_full.groupby('TISSUE').median()\n",
    "hsfy_tissue.to_csv('{}/HSFY_kallisto_rnaseqc_tissue_TPM.txt'.format(outdir), sep='\\t')\n",
    "hsfy_tissue.head()"
   ]
  },
  {
   "cell_type": "markdown",
   "metadata": {},
   "source": [
    "Find top 15 tissues where *HSFY* is highly expressed by RNA-SeQC"
   ]
  },
  {
   "cell_type": "code",
   "execution_count": 89,
   "metadata": {},
   "outputs": [
    {
     "data": {
      "text/plain": [
       "TISSUE\n",
       "Brain - Cerebellum          0.137110\n",
       "Brain - Cortex              0.069263\n",
       "Brain - Hypothalamus        0.054676\n",
       "Brain - Striatum            0.034243\n",
       "Brain - Hippocampus         0.033287\n",
       "Brain - Substantia nigra    0.033124\n",
       "Testis                      0.027544\n",
       "Nerve                       0.021265\n",
       "Brain - Amygdala            0.019939\n",
       "Colon - Sigmoid             0.019687\n",
       "Pituitary                   0.019382\n",
       "Esophagus - Muscularis      0.018457\n",
       "Artery - Coronary           0.015023\n",
       "Breast                      0.013544\n",
       "Spinal Cord                 0.011380\n",
       "Name: HSFY_TPM, dtype: float64"
      ]
     },
     "execution_count": 89,
     "metadata": {},
     "output_type": "execute_result"
    }
   ],
   "source": [
    "hsfy_med = hsfy.loc[hsfy['method']=='rnaseqc'].groupby('TISSUE').median()['HSFY_TPM']\n",
    "hsfy_med = hsfy_med.sort_values(ascending=False)\n",
    "tissues15 = hsfy_med.index[:15]\n",
    "hsfy_med.loc[tissues15]"
   ]
  },
  {
   "cell_type": "markdown",
   "metadata": {},
   "source": [
    "Plot"
   ]
  },
  {
   "cell_type": "code",
   "execution_count": 90,
   "metadata": {},
   "outputs": [
    {
     "data": {
      "image/png": "[encoded data removed]",
      "text/plain": [
       "<Figure size 360x216 with 1 Axes>"
      ]
     },
     "metadata": {
      "needs_background": "light"
     },
     "output_type": "display_data"
    }
   ],
   "source": [
    "fig, ax = plt.subplots(figsize=(5, 3))\n",
    "fig.subplots_adjust(bottom=0.23)\n",
    "\n",
    "# truncate values less than 0.1 for plotting\n",
    "df = hsfy.copy()\n",
    "df.loc[df['HSFY_TPM'] < 0.1, 'HSFY_TPM'] = 0.1\n",
    "\n",
    "ax = sns.stripplot(x='TISSUE', y='HSFY_TPM', hue='method', \n",
    "                   data=df.loc[df.TISSUE.isin(tissues15)],\n",
    "                   dodge=True, alpha=0.4, order=tissues15,\n",
    "                   palette={'rnaseqc':'0.6', 'kallisto':'#ef6548'},\n",
    "                   size=4)\n",
    "ax.set_title(\"HSFY1 + HSFY2 TPM (top 15 tissues ranked by RNA-SeQC estimates)\")\n",
    "\n",
    "# plot medians\n",
    "xlim = ax.get_xlim()\n",
    "ax.set_xlim(xlim)\n",
    "rmed = df.loc[df['method']=='rnaseqc'].groupby('TISSUE').median().reindex(tissues15)['HSFY_TPM']\n",
    "kmed = df.loc[df['method']=='kallisto'].groupby('TISSUE').median().reindex(tissues15)['HSFY_TPM']\n",
    "for i in range(len(tissues15)):\n",
    "    ax.plot([i-0.4, i], [kmed.iloc[i], kmed.iloc[i]], color='#b2182b', lw=1, zorder=3)\n",
    "    ax.plot([i, i+0.4], [rmed.iloc[i], rmed.iloc[i]], color='0.2', lw=1, zorder=3)\n",
    "\n",
    "ax.set_yscale('log')\n",
    "ax.set_ylim([0.08, 110])\n",
    "ax = pf.format_spines(ax, bottom=False)\n",
    "ax = pf.format_axis_labels(ax, ticklabsize=7, labsize=7)\n",
    "ax.set_xlabel('')\n",
    "ax.spines['left'].set_bounds(0.1, 100)\n",
    "ax = pf.simplify_tissues(ax, 'x')\n",
    "ax = pf.rotate_ticklabels(ax)\n",
    "ax.grid(axis='y', ls=':', color='0.6', lw=0.5)\n",
    "\n",
    "fig.savefig(\"{}/hsfy_two_method_comparison.pdf\".format(outdir))"
   ]
  }
 ],
 "metadata": {
  "kernelspec": {
   "display_name": "Python 3",
   "language": "python",
   "name": "python3"
  },
  "language_info": {
   "codemirror_mode": {
    "name": "ipython",
    "version": 3
   },
   "file_extension": ".py",
   "mimetype": "text/x-python",
   "name": "python",
   "nbconvert_exporter": "python",
   "pygments_lexer": "ipython3",
   "version": "3.6.9"
  }
 },
 "nbformat": 4,
 "nbformat_minor": 2
}
